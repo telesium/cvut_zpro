{
 "cells": [
  {
   "cell_type": "markdown",
   "metadata": {},
   "source": [
    "# V minulém díle jste viděli..."
   ]
  },
  {
   "cell_type": "markdown",
   "metadata": {},
   "source": [
    "Data, se kterými pracuje počítač, jsou vždy zakódována v binární soustavě, bez ohledu na to, v jaké soustavě nebo multimediální reprezentaci jsou zobrazena uživateli na výstupu nebo vstupu."
   ]
  },
  {
   "cell_type": "markdown",
   "metadata": {},
   "source": [
    "Základní aritmetické typů v jazyku Python jsou `bool`, `int`, `float` a `complex`.\n",
    "Kromě booleovských konstant `True` a `False` existuje také speciální hodnota `None`, která má svůj vlastní typ.\n",
    "Čísla můžeme zadávat v desítkové, dvojkové, osmičkové nebo šestnáctkové soustavě:"
   ]
  },
  {
   "cell_type": "code",
   "execution_count": null,
   "metadata": {},
   "outputs": [],
   "source": [
    "print(11)\n",
    "print(0o11)\n",
    "print(0x11)\n",
    "print(0b11)"
   ]
  },
  {
   "cell_type": "markdown",
   "metadata": {},
   "source": [
    "S číselnými hodnotami můžeme provádět běžné aritmetické operace pomocí operátorů `+`, `-`, `*`, `/`, `//`, `%` a `**`.\n",
    "Také jsou k dispozici funkce `abs`, `min`, `max` a můžeme importovat modul `math` pro zpřístupnění matematických konstant a funkcí:"
   ]
  },
  {
   "cell_type": "code",
   "execution_count": null,
   "metadata": {},
   "outputs": [],
   "source": [
    "import math\n",
    "\n",
    "print(\"Číslo π je přibližně\", math.pi)\n",
    "print(\"Hodnota cos(π) je \", math.cos(math.pi))"
   ]
  },
  {
   "cell_type": "markdown",
   "metadata": {},
   "source": [
    "# Komentáře v jazyku Python"
   ]
  },
  {
   "cell_type": "markdown",
   "metadata": {},
   "source": [
    "Důležitým prvkem programovacích jazyků, který však nemá vliv na vykonávání kódu, jsou komentáře.\n",
    "__Komentáře__ ve zdrojovém kódu programu slouží programátorům k bližšímu vysvětlení příkazu nebo bloku příkazů, které se v programu vyskytují, a umožňují tak program učinit pro lidi pochopitelnějším.\n",
    "Na rozdíl od ostatních prvků jazyka Python nejsou komentáře vázány žádnými syntaktickými pravidly – interpret je zcela ignoruje, pro něj je komentář ekvivalentem mezery: kam se smí vložit mezera, tam se smí vložit komentář.\n",
    "\n",
    "V jazyku Python komentáře začínají znakem `#` a končí na konci řádku:"
   ]
  },
  {
   "cell_type": "code",
   "execution_count": null,
   "metadata": {},
   "outputs": [],
   "source": [
    "# první komentář\n",
    "a = 1\n",
    "b = 2 # druhý komentář\n",
    "c = 3 # třetí komentář"
   ]
  },
  {
   "cell_type": "markdown",
   "metadata": {},
   "source": [
    "Pokud je komentář delší, typicky pokud komentuje několik příkazů společně, můžeme jej rozdělit na několik řádků.\n",
    "Takové _blokové komentáře_ je běžné psát __před kód, který komentují__:"
   ]
  },
  {
   "cell_type": "code",
   "execution_count": null,
   "metadata": {},
   "outputs": [],
   "source": [
    "# Zde nastavíme poloměr kruhu, spočítáme jeho obvod,\n",
    "# a výslednou hodnotu vypíšeme pomocí funkce print.\n",
    "r = 1.5\n",
    "obvod = 2 * math.pi * r\n",
    "print(\"Obvod kruhu je\", obvod)"
   ]
  },
  {
   "cell_type": "markdown",
   "metadata": {},
   "source": [
    "# Strukturování programu: podmínky a cykly"
   ]
  },
  {
   "cell_type": "markdown",
   "metadata": {},
   "source": [
    "Potřebujeme-li se v programu rozhodnout, jak dále řešit zadanou úlohu, používáme __podmíněný příkaz__, který vyhodnotí zadanou podmínku a na základě obdrženého výsledku se rozhodne, které příkazy bude provádět dál.\n",
    "Dalším velmi častým prvkem pro strukturování programu jsou __cykly__, které umožňují provádět určité příkazy opakovaně."
   ]
  },
  {
   "cell_type": "markdown",
   "metadata": {},
   "source": [
    "## Podmíněný příkaz\n",
    "\n",
    "Podmíněný příkaz začíná klíčovým slovem `if`, za nímž následuje podmínka a dvojtečka (znak `:`).\n",
    "Podmínku podmíněného příkazu může tvořit libovolný booleovský výraz (resp. libovolný výraz, který lze převést na typ `bool`) a tělo podmíněného příkazu je tvořeno blokem příkazů, které se mají provést v případě, je-li podmínka splněna:"
   ]
  },
  {
   "cell_type": "code",
   "execution_count": null,
   "metadata": {},
   "outputs": [],
   "source": [
    "a = 1\n",
    "if a > 0:\n",
    "    print(\"číslo je kladné\")\n",
    "    print(\"číslo se rovná\", a)"
   ]
  },
  {
   "cell_type": "markdown",
   "metadata": {},
   "source": [
    "<div style=\"border-left: 5px solid red; padding-left: 1em\">\n",
    "<p><strong>Univerzální syntaktické pravidlo:</strong></p>\n",
    "<p>Ve všech případech, kde znak <code>:</code> uvozuje nějaký blok příkazů, ať už jde o podmíněný příkaz, cyklus nebo definici nějakého objektu, musí být všechny příkazy, které do daného bloku patří, odsazeny stejným počtem mezer.\n",
    "</p>\n",
    "<p>Běžně se používá konvence odsazování pomocí 4 mezer. Přesný počet mezer sice není určen syntaktickými pravidly jazyka, ale všichni se této konvence budeme držet. Také pozor na míchání znaků \"mezera\" (<code>\" \"</code>, číslo 40 v ASCII) a \"tabulátor\" (<code>\"\t\"</code>, reprezentován symbolem <code>\"\\t\"</code>, číslo 9 v ASCII).\n",
    "</p>\n",
    "</div>"
   ]
  },
  {
   "cell_type": "markdown",
   "metadata": {},
   "source": [
    "Za jednoduchým podmíněným příkazem může následovat příkaz `else`, který uvozuje blok příkazů, které se mají provést, pokud podmínka v předchozím příkazu `if` není splněna:"
   ]
  },
  {
   "cell_type": "code",
   "execution_count": null,
   "metadata": {},
   "outputs": [],
   "source": [
    "a = 0\n",
    "if a > 0:\n",
    "    print(\"číslo je kladné\")\n",
    "    print(\"číslo se rovná\", a)\n",
    "else:\n",
    "    print(\"číslo není kladné\")\n",
    "    print(\"číslo se rovná\", a)"
   ]
  },
  {
   "cell_type": "markdown",
   "metadata": {},
   "source": [
    "Podmíněné příkazy lze samozřejmě vnořovat, přičemž je nutné dbát na správnou úroveň odsazení vnořených příkazů:"
   ]
  },
  {
   "cell_type": "code",
   "execution_count": null,
   "metadata": {},
   "outputs": [],
   "source": [
    "a = 0\n",
    "if a > 0:\n",
    "    print(\"číslo je kladné\")\n",
    "    print(\"číslo se rovná\", a)\n",
    "else:\n",
    "    if a == 0:\n",
    "        print(\"číslo se rovná 0\")\n",
    "    else:\n",
    "        print(\"číslo není kladné\")\n",
    "        print(\"číslo se rovná\", a)"
   ]
  },
  {
   "cell_type": "markdown",
   "metadata": {},
   "source": [
    "Mezi příkazy `if` a `else` spolu s jejich bloky příkazů může ještě vystupovat libovolný počet příkazů `elif` (zkratka pro `else`-`if`), které umožňují provádět ověření dodatečné podmínky v případě, že žádná z předchozích podmínek nebyla splněna.\n",
    "Předchozí příklad tedy můžeme zjednodušit takto:"
   ]
  },
  {
   "cell_type": "code",
   "execution_count": null,
   "metadata": {},
   "outputs": [],
   "source": [
    "a = 0\n",
    "if a > 0:\n",
    "    print(\"číslo je kladné\")\n",
    "    print(\"číslo se rovná\", a)\n",
    "elif a == 0:\n",
    "    print(\"číslo se rovná 0\")\n",
    "else:\n",
    "    print(\"číslo není kladné\")\n",
    "    print(\"číslo se rovná\", a)"
   ]
  },
  {
   "cell_type": "markdown",
   "metadata": {},
   "source": [
    "## Porovnávací operátory\n",
    "\n",
    "V jazyku Python jsou k dispozici následující operátory pro porovnávání hodnot výrazů:\n",
    "\n",
    "Operátor | Význam\n",
    "---------|-------\n",
    "`==`     | Rovnost dvou hodnot. __Pozor:__ neplést s přiřazovacím operátorem `=`.\n",
    "`!=`     | Nerovnost dvou hodnot ($a \\ne b$).\n",
    "`<`      | Ostře menší.\n",
    "`>`      | Ostře větší.\n",
    "`<=`     | Menší nebo rovno ($\\le$).\n",
    "`>=`     | Větší nebo rovno ($\\ge$).\n",
    "\n",
    "Jazyk Python dále umožňuje provádět _zřetězené porovnávání_.\n",
    "Např. výraz `x < y <= z > a` je ekvivalentní výrazu `x < y and y <= z and z > a`.\n",
    "\n",
    "Všechny operátory jsou k dispozici pro datové typy, kde uvedený význam má smysl (např. operátory `<`, `>`, `<=`, `>=` nejsou k dispozici pro komplexní čísla, kombinace číslo a textový řetězec, apod.) a jejich výsledek je booleovská hodnota `True` nebo `False`.\n",
    "\n",
    "V podmíněných příkazech, kde je očekávána booleovská hodnota, je možné použít libovolný výraz, jehož hodnotu lze implicitně převést na typ `bool`.\n",
    "Převod se řídí těmito pravidly: `None` → `False`, `0` → `False`, `0.0` → `False`, `complex(0, 0)` → `False`, všechny ostatní číselné hodnoty → `True`."
   ]
  },
  {
   "cell_type": "markdown",
   "metadata": {},
   "source": [
    "## Příklady"
   ]
  },
  {
   "cell_type": "markdown",
   "metadata": {},
   "source": [
    "1.  **Sudé-liché.** Napište program, který zjistí a vypíše, zda je zadané číslo sudé nebo liché."
   ]
  },
  {
   "cell_type": "code",
   "execution_count": 13,
   "metadata": {},
   "outputs": [
    {
     "name": "stdout",
     "output_type": "stream",
     "text": [
      "The number 33.0 is odd\n"
     ]
    }
   ],
   "source": [
    "def main():\n",
    "    try:\n",
    "        number = float(input(\"Enter the number: \"))\n",
    "    except ValueError:\n",
    "        print(\"[ERROR] This is not a number!\")\n",
    "        return\n",
    "\n",
    "    state = \"even\" if number % 2 == 0 else \"odd\"\n",
    "    print(\"The number\", number, \"is\", state)\n",
    "\n",
    "main()"
   ]
  },
  {
   "cell_type": "markdown",
   "metadata": {},
   "source": [
    "2.  **Je větší.** Napište program, který zjistí a vypíše, které ze dvou zadaných čísel je větší."
   ]
  },
  {
   "cell_type": "code",
   "execution_count": 15,
   "metadata": {},
   "outputs": [
    {
     "name": "stdout",
     "output_type": "stream",
     "text": [
      "20.0 is greater than 10.0\n"
     ]
    }
   ],
   "source": [
    "def main():\n",
    "    try:\n",
    "        number1 = float(input(\"Enter the number 1: \"))\n",
    "        number2 = float(input(\"Enter the number 2: \"))\n",
    "    except ValueError:\n",
    "        print(\"[ERROR] This is not a number!\")\n",
    "        return\n",
    "\n",
    "    if number1 == number2:\n",
    "        print(\"Numbers are equal\")\n",
    "    else:\n",
    "        print(max([number1, number2]), \"is greater than\", min([number1, number2]))\n",
    "\n",
    "main()"
   ]
  },
  {
   "cell_type": "markdown",
   "metadata": {},
   "source": [
    "3.  **Je největší.** Napište program, který zjistí a vypíše, které ze tří zadaných čísel je největší."
   ]
  },
  {
   "cell_type": "code",
   "execution_count": 16,
   "metadata": {},
   "outputs": [
    {
     "name": "stdout",
     "output_type": "stream",
     "text": [
      "The number 33.3 is the largest\n"
     ]
    }
   ],
   "source": [
    "def main():\n",
    "    try:\n",
    "        number1 = float(input(\"Enter the number 1: \"))\n",
    "        number2 = float(input(\"Enter the number 2: \"))\n",
    "        number3 = float(input(\"Enter the number 3: \"))\n",
    "    except ValueError:\n",
    "        print(\"[ERROR] This is not a number!\")\n",
    "        return\n",
    "\n",
    "    print(\"The number\", max([number1, number2, number3]), \"is the largest\")\n",
    "\n",
    "main()"
   ]
  },
  {
   "cell_type": "markdown",
   "metadata": {},
   "source": [
    "4.  **Seřaď.** Napište program, který vypíše tři zadaná čísla v pořadí od největšího po nejmenší."
   ]
  },
  {
   "cell_type": "code",
   "execution_count": 17,
   "metadata": {},
   "outputs": [
    {
     "name": "stdout",
     "output_type": "stream",
     "text": [
      "7.0\n",
      "3.14\n",
      "2.0\n"
     ]
    }
   ],
   "source": [
    "def main():\n",
    "    try:\n",
    "        number1 = float(input(\"Enter the number 1: \"))\n",
    "        number2 = float(input(\"Enter the number 2: \"))\n",
    "        number3 = float(input(\"Enter the number 3: \"))\n",
    "    except ValueError:\n",
    "        print(\"[ERROR] This is not a number!\")\n",
    "        return\n",
    "\n",
    "    result = sorted([number1, number2, number3], reverse=True)\n",
    "    for i in result:\n",
    "        print(i)\n",
    "\n",
    "main()"
   ]
  },
  {
   "cell_type": "markdown",
   "metadata": {},
   "source": [
    "5.  **Trojúhelník.** Napište program, který zjistí a vypíše, zda lze sestrojit trojúhelník zadaný pomocí tří délek stran."
   ]
  },
  {
   "cell_type": "code",
   "execution_count": null,
   "metadata": {},
   "outputs": [
    {
     "name": "stdout",
     "output_type": "stream",
     "text": [
      "The triangle exists\n"
     ]
    }
   ],
   "source": [
    "def main():\n",
    "    try:\n",
    "        side_a = float(input(\"Enter side a: \"))\n",
    "        side_b = float(input(\"Enter side b: \"))\n",
    "        side_c = float(input(\"Enter side c: \"))\n",
    "    except ValueError:\n",
    "        print(\"[ERROR] This is not a number!\")\n",
    "        return\n",
    "    if side_a <= 0:\n",
    "        print(\"[ERROR] Incorrect side a!\")\n",
    "        return    \n",
    "    if side_b <= 0:\n",
    "        print(\"[ERROR] Incorrect side b!\")\n",
    "        return      \n",
    "    if side_c <= 0:\n",
    "        print(\"[ERROR] Incorrect side c!\")\n",
    "        return                \n",
    "\n",
    "    is_triangle_exists = (side_a + side_b > side_c) and \\\n",
    "        (side_a + side_c > side_b) and \\\n",
    "        (side_b + side_c > side_a)\n",
    "\n",
    "    if is_triangle_exists:\n",
    "        print(\"The triangle exists\")\n",
    "    else:\n",
    "        print(\"The triangle doesn't exist\")\n",
    "\n",
    "main()"
   ]
  },
  {
   "cell_type": "markdown",
   "metadata": {},
   "source": [
    "6.  **Test plnoletosti.** Napište program, který se zeptá uživatele na věk a odpoví, zda je plnoletý."
   ]
  },
  {
   "cell_type": "code",
   "execution_count": null,
   "metadata": {},
   "outputs": [
    {
     "name": "stdout",
     "output_type": "stream",
     "text": [
      "You are an adult\n"
     ]
    }
   ],
   "source": [
    "def main():\n",
    "    try:\n",
    "        age = int(input(\"How old are you?: \"))\n",
    "    except ValueError:\n",
    "        print(\"[ERROR] This is not a number!\")\n",
    "        return\n",
    "    if age < 0:\n",
    "        print(\"[ERROR] Incorrect age!\")\n",
    "        return    \n",
    "\n",
    "    if age >= 18:\n",
    "        print(\"You are an adult\")\n",
    "    else:\n",
    "        print(\"You are not an adult\")\n",
    "\n",
    "main()"
   ]
  },
  {
   "cell_type": "markdown",
   "metadata": {},
   "source": [
    "## Příkaz `while` – cyklus se vstupní podmínkou\n",
    "\n",
    "Příkaz `while` je variantou cyklu, který umožňuje ověření libovolné podmínky.\n",
    "Obecná syntaxe vypadá takto:\n",
    "```python\n",
    "while nějaká_podmínka:\n",
    "    tělo_cyklu\n",
    "    ...\n",
    "```\n",
    "K ověření podmínky dochází vždy před provedením příkazů z těla cyklu.\n",
    "Interpretace chování příkazu `while` tedy je: _dokud platí podmínka, prováděj příkazy_."
   ]
  },
  {
   "cell_type": "markdown",
   "metadata": {},
   "source": [
    "__Příklad:__ následující program vypíše všechna čísla od 0 do 10 včetně:"
   ]
  },
  {
   "cell_type": "code",
   "execution_count": null,
   "metadata": {},
   "outputs": [],
   "source": [
    "n = 0\n",
    "while n <= 10:\n",
    "    print(n)\n",
    "    n += 1"
   ]
  },
  {
   "cell_type": "markdown",
   "metadata": {},
   "source": [
    "<div style=\"border-left: 5px solid green; padding-left: 1em\">\n",
    "<p><strong>Tip:</strong>\n",
    "Kliknutím na tlačítko <strong>pytutor</strong> v rozhraní JupyterLab se zobrazí grafická interpretace toho, co se v programu děje.</p>\n",
    "</div>"
   ]
  },
  {
   "cell_type": "markdown",
   "metadata": {},
   "source": [
    "## Příkaz `for` – cyklus s parametrem\n",
    "\n",
    "Příkaz `while` je sice obecný cyklus (umožňuje ověřovat libovolnou podmínku), ale často je poměrně nešikovný, protože musíme sami zajistit správný přechod na následující iteraci.\n",
    "Alternativní příkaz `for` je užitečný v případech, kdy chceme opakovat příkazy pro předem známou sadu hodnot.\n",
    "\n",
    "Obecná syntaxe příkazu `for` vypadá takto:\n",
    "```python\n",
    "for parametry_cyklu in zdroj:\n",
    "    tělo_cyklu\n",
    "```\n",
    "Parametr cyklu bývá většinou jen jeden.\n",
    "Může jich být i více, ale pak potřebujeme zdroj, který v každém kroku dodává příslušně velkou sadu hodnot.\n",
    "\n",
    "Jako zdroj hodnot pro příkaz `for` může sloužit mnoho různých objektů, např. kontejnery a datové struktury, se kterými se seznámíme později.\n",
    "Dnes si ukážeme jen základní, ale velmi častý zdroj hodnot: funkci `range`, která představuje posloupnost celých čísel v určitém rozmezí.\n",
    "Chování funkce `range` se liší podle počtu (celočíselných!) argumentů, které jí předáme:\n",
    "\n",
    "1. Zadáme-li jeden argument, zdroj představuje posloupnost celých čísel od nuly až po zadanou hodnotu, ale tu už ne.\n",
    "   Zadáte-li proto jako argument nulu nebo nějaké záporné číslo, dostaneme prázdnou posloupnost.\n",
    "   Následující program vypisuje čísla od 0 do 10 včetně:"
   ]
  },
  {
   "cell_type": "code",
   "execution_count": null,
   "metadata": {},
   "outputs": [],
   "source": [
    "for n in range(11):\n",
    "    print(n)"
   ]
  },
  {
   "cell_type": "markdown",
   "metadata": {},
   "source": [
    "2. Zadáme-li dva argumenty, zdroj představuje posloupnost celých čísel od hodnoty prvního argumentu po hodnotu druhého, ale hodnotu druhého už ne.\n",
    "   Následující program vypisuje hodnoty od 7 do 10 včetně:"
   ]
  },
  {
   "cell_type": "code",
   "execution_count": null,
   "metadata": {},
   "outputs": [],
   "source": [
    "for n in range(7, 11):\n",
    "    print(n)"
   ]
  },
  {
   "cell_type": "markdown",
   "metadata": {},
   "source": [
    "3. Zadáme-li tři argumenty, zdroj představuje posloupnost celých čísel od hodnoty prvního argumentu až po hodnotu druhého (jeho hodnotu už ne) s krokem zadaným ve třetím argumentu.\n",
    "   Pro kladný krok bude posloupnost rostoucí, pro záporný bude klesající."
   ]
  },
  {
   "cell_type": "code",
   "execution_count": null,
   "metadata": {},
   "outputs": [],
   "source": [
    "for n in range(10, 0, -3):\n",
    "    print(n)"
   ]
  },
  {
   "cell_type": "markdown",
   "metadata": {},
   "source": [
    "# Příklady"
   ]
  },
  {
   "cell_type": "markdown",
   "metadata": {},
   "source": [
    "1.  **Součet čísel pomocí for cyklu.** Napište program, který sečte čísla od 1 do n (pomocí for cyklu)."
   ]
  },
  {
   "cell_type": "code",
   "execution_count": null,
   "metadata": {},
   "outputs": [
    {
     "name": "stdout",
     "output_type": "stream",
     "text": [
      "Total sum: 6\n"
     ]
    }
   ],
   "source": [
    "def main():\n",
    "    try:\n",
    "        end = int(input(\"Enter the number: \"))\n",
    "    except ValueError:\n",
    "        print(\"[ERROR] This is not a number!\")\n",
    "        return  \n",
    "    if end <= 0:\n",
    "        print(\"[ERROR] Incorrect number!\")\n",
    "        return\n",
    "\n",
    "    result = sum(i for i in range(1, end+1))\n",
    "    print(\"Total sum:\", result)\n",
    "\n",
    "main()"
   ]
  },
  {
   "cell_type": "markdown",
   "metadata": {},
   "source": [
    "2. **Sudé-liché podruhé.**\n",
    "Napište program, který bude pořád dokola žádat uživatele, aby zadal celé číslo, a poté vypíše, jestli je zadané číslo sudé nebo liché.\n",
    "Jakmile uživatel napíše \"konec\", tak program skončí."
   ]
  },
  {
   "cell_type": "code",
   "execution_count": null,
   "metadata": {},
   "outputs": [],
   "source": [
    "def main():\n",
    "    while True:\n",
    "        command = input(\"Enter the number or the exit command: \")\n",
    "        if command.strip() == \"konec\":\n",
    "            break\n",
    "\n",
    "        try:\n",
    "            number = float(command)\n",
    "        except ValueError:\n",
    "            print(\"[ERROR] This is not a correct command or number!\")\n",
    "            continue\n",
    "        \n",
    "        if number % 2 == 0:\n",
    "            print(\"The number is even.\")\n",
    "        else:\n",
    "            print(\"The number is odd.\")\n",
    "\n",
    "main()"
   ]
  },
  {
   "cell_type": "markdown",
   "metadata": {},
   "source": [
    "3. **Načti a sečti čísla.** Napište program, který postupně načítá čísla ze vstupu, dokud nepřijde prázdný řetězec `\"\"`. Pak vypíše počet zadaných čísel a jejich součet."
   ]
  },
  {
   "cell_type": "code",
   "execution_count": 22,
   "metadata": {},
   "outputs": [
    {
     "name": "stdout",
     "output_type": "stream",
     "text": [
      "Total sum: 34.4\n",
      "Numbers count: 4\n"
     ]
    }
   ],
   "source": [
    "def main():\n",
    "    sum = 0\n",
    "    count = 0\n",
    "\n",
    "    while True:\n",
    "        command = input(\"Enter the number or the exit command: \")\n",
    "        \n",
    "        if command == \"\":\n",
    "            print(\"Total sum:\", sum)\n",
    "            print(\"Numbers count:\", count)\n",
    "            break\n",
    "        \n",
    "        try:\n",
    "            number = float(command)\n",
    "        except ValueError:\n",
    "            print(\"[ERROR] This is not a correct command or number!\")\n",
    "            continue\n",
    "\n",
    "        sum += number\n",
    "        count += 1\n",
    "\n",
    "main()"
   ]
  },
  {
   "cell_type": "markdown",
   "metadata": {},
   "source": [
    "4.  **Chci číslo z intervalu.** Program-kecálek čte čísla od uživatele, dokud uživatel nezadá číslo z požadovaného intervalu. Pak mu poděkuje a vypíše počet neúspěšných pokusů."
   ]
  },
  {
   "cell_type": "code",
   "execution_count": null,
   "metadata": {},
   "outputs": [
    {
     "name": "stdout",
     "output_type": "stream",
     "text": [
      "Thank you! Incorrect tries: 0\n"
     ]
    }
   ],
   "source": [
    "def get_number(min_number, max_number):\n",
    "    incorrect_tries = 0\n",
    "    while True:\n",
    "        try:\n",
    "            number = float(input(\"Enter the number: \"))\n",
    "        except ValueError:\n",
    "            incorrect_tries += 1\n",
    "            continue\n",
    "\n",
    "        if number >= min_number and number <= max_number:\n",
    "            return incorrect_tries\n",
    "\n",
    "        incorrect_tries += 1\n",
    "\n",
    "def main():\n",
    "    try:\n",
    "        min_number = float(input(\"Enter the minimum allowed number: \"))\n",
    "        max_number = float(input(\"Enter the maximum allowed number: \"))\n",
    "    except ValueError as e:\n",
    "        print(\"[ERROR] This is not a number!\")\n",
    "        return\n",
    "    if max_number < min_number:\n",
    "        print(\"[ERROR] The minimum allowed number can't be greater than the maximum allowed number!\")\n",
    "        return\n",
    "            \n",
    "    tries = get_number(min_number, max_number)\n",
    "    print(\"Thank you! Incorrect tries:\", tries)\n",
    "\n",
    "main()"
   ]
  },
  {
   "cell_type": "markdown",
   "metadata": {},
   "source": [
    "5.  **Posloupnost.** Napište program, který vypíše prvních n členů následující posloupnosti: 1 1 2 1 2 3 1 2 3 4 1 2 3 4 5 ..."
   ]
  },
  {
   "cell_type": "code",
   "execution_count": 2,
   "metadata": {},
   "outputs": [
    {
     "name": "stdout",
     "output_type": "stream",
     "text": [
      "Enter the number of items to print:  5\n"
     ]
    },
    {
     "name": "stdout",
     "output_type": "stream",
     "text": [
      "1\n",
      "1\n",
      "2\n",
      "1\n",
      "2\n"
     ]
    }
   ],
   "source": [
    "def triangle_sequence(limit=None):\n",
    "    count = 0\n",
    "    level = 1\n",
    "\n",
    "    while limit is None or count < limit:\n",
    "        for number in range(1, level + 1):\n",
    "            if limit is not None and count >= limit:\n",
    "                return            \n",
    "            yield number\n",
    "            count += 1\n",
    "        level += 1\n",
    "\n",
    "def main():\n",
    "    try:\n",
    "        number = int(input(\"Enter the number of items to print: \"))\n",
    "    except ValueError as e:\n",
    "        print(\"[ERROR] This is not a number!\")\n",
    "        return\n",
    "    if number <= 0:\n",
    "        print(\"[ERROR] Incorrect number!\")\n",
    "        return\n",
    "    \n",
    "    for i in triangle_sequence(number):\n",
    "        print(i)\n",
    "\n",
    "main()"
   ]
  }
 ],
 "metadata": {
  "kernelspec": {
   "display_name": "Python 3 (ipykernel)",
   "language": "python",
   "name": "python3"
  }
 },
 "nbformat": 4,
 "nbformat_minor": 4
}
