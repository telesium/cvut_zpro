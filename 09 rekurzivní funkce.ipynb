{
 "cells": [
  {
   "cell_type": "markdown",
   "metadata": {},
   "source": [
    "# V minulém díle jste viděli..."
   ]
  },
  {
   "cell_type": "markdown",
   "metadata": {},
   "source": [
    "Definice funkce s parametry a vrácení výsledné hodnoty pomocí příkazu `return`:"
   ]
  },
  {
   "cell_type": "code",
   "execution_count": null,
   "metadata": {},
   "outputs": [],
   "source": [
    "def demo_funkce(x, y=0):\n",
    "    if y >= 0:\n",
    "        return x ** 2 - 3 * x + 1\n",
    "    else:\n",
    "        return x + y"
   ]
  },
  {
   "cell_type": "markdown",
   "metadata": {},
   "source": [
    "Také jste viděli, co je to _lokální proměnná_, jaký je její obor platnosti a jaké je chování v případě shody názvu několika proměnných s různým oborem platnosti."
   ]
  },
  {
   "cell_type": "markdown",
   "metadata": {},
   "source": [
    "Předávání argumentů funkci _pozičním způsobem_ a pomocí _pojmenovaných argumentů_:\n",
    "\n",
    "- `demo_funkce_s_mnoha_parametry(1, 2, 3, 4)`\n",
    "- `demo_funkce_s_mnoha_parametry(param1=1, param2=2, param3=3, param4=4)`\n",
    "- `demo_funkce_s_mnoha_parametry(param2=2, param1=1, param4=4, param3=3)`\n",
    "- `demo_funkce_s_mnoha_parametry(1, 2, param4=4)`"
   ]
  },
  {
   "cell_type": "markdown",
   "metadata": {},
   "source": [
    "Co je to _docstring_ a jak zobrazit nápovědu pro nějaký objekt, např. pro funkci `print`:"
   ]
  },
  {
   "cell_type": "code",
   "execution_count": null,
   "metadata": {},
   "outputs": [],
   "source": [
    "help(print)"
   ]
  },
  {
   "cell_type": "markdown",
   "metadata": {},
   "source": [
    "# Pojmenování proměnných a funkcí"
   ]
  },
  {
   "cell_type": "markdown",
   "metadata": {},
   "source": [
    "Ačkoli pojmenování proměnných a funkcí typicky nemá vliv na správnou funkčnost programu, výběr vhodných jmen je velmi důležitý pro lidi, kteří zdrojový kód čtou a upravují.\n",
    "Pro přehlednost kódu je důležitých několik univerzálních pravidel:\n",
    "\n",
    "- Názvy by měly být výstižné a odpovídat tomu, k čemu v programu slouží. Nepoužívejte příliš obecné názvy.\n",
    "- Všechny názvy by měly být v angličtině (nejuniverzálnější přirozený jazyk).\n",
    "- Vyhýbejte se zkratkám a názvům které mohou mít více různých významů. Používání jednopísmenných identifikátorů je vhodné pouze v matematických výrazech (např. `x`, `y`, `z`, `i`, `j`, `k`).\n",
    "- Názvy funkcí typicky vyjadřují jejich účinek (např. `print`) nebo návratovou hodnotu (např. `abs`).\n",
    "- Chování funkce je dobré popsat v jejím _docstringu_ (např. přípustné hodnoty parametrů, překvapivé chování, atd).\n",
    "\n",
    "Několik jednoduchých příkladů:\n",
    "\n",
    "Nevhodné | Lepší\n",
    "---------|------\n",
    "`true_false`  | `rolled_a_one`\n",
    "`d`           | `dice`\n",
    "`play_helper` | `take_turn`\n",
    "`my_int`      | `num_rolls`\n",
    "`l`, `I`, `O` | `k`, `i`, `m`"
   ]
  },
  {
   "cell_type": "markdown",
   "metadata": {},
   "source": [
    "# Rekurzivní funkce"
   ]
  },
  {
   "cell_type": "markdown",
   "metadata": {},
   "source": [
    "Při vykonávání programu typicky dochází k velkému počtu větvení a přepínání prostředí, ve kterých se vyhodnocují jednotlivé funkce.\n",
    "K přepínání může docházet na několika místech, např.:\n",
    "\n",
    "- funkce `f` postupně volá funkce `g`, `h`, atd.\n",
    "- při _skládání funkcí_ v rámci jednoho výrazu, např. `f(g(a, h(b)), h(g(a, b)))`\n",
    "\n",
    "Dalším typickým způsobem větvení programu je _rekurze_.\n",
    "Rekurzivní funkce je taková funkce, která volá sama sebe, a to buď přímo (`f` → `f`) nebo nepřímo (`f` → `g` → `h` → `f`).\n",
    "Použití rekurze může v určitých případech zjednodušit řešení dané úlohy.\n",
    "Jako příklad porovnejte iterační a rekurzivní algoritmus pro hledání klíče v hromadě krabic:\n",
    "\n",
    "![](images/09/iterative%20and%20recursive%20approach.png)\n",
    "\n",
    "Stejně jako v iteračním případě i rekurzivní algoritmus se může zacyklit:\n",
    "\n",
    "- pokud v cyklu `while` neošetříte správně podmínku, kdy se má jeho provádění ukončit, program nikdy neskončí\n",
    "- pokud v rekurzivní funkci neošetříte správně _počáteční podmínku_, která ukončí rekurzi, stane se totéž (resp. program skončí systémovou chybou po dosažení maximální dovolené hloubky rekurze)\n",
    "\n",
    "Obecná struktura rekurzivní funkce se skládá z následujících částí:\n",
    "\n",
    "1. __základní případ__: nejjednodušší úloha, kterou lze vyřešit přímo bez použití rekurze\n",
    "2. __rekurzivní volání__: rozdělení velké úlohy na menší části a použití stejné funkce pro vyřešení těchto menších úloh\n",
    "3. __rekombinace__: spojení výsledků menších úloh pro vyřešení původní velké úlohy"
   ]
  },
  {
   "cell_type": "markdown",
   "metadata": {},
   "source": [
    "## Výpočet faktoriálu\n",
    "\n",
    "Klasickým příkladem pro vysvětlení rekurze je výpočet faktoriálu nezáporného celého čísla $n$.\n",
    "Tuto operaci lze definovat oběma způsoby, nejprve si ukážeme nerekurzivní zápis:\n",
    "\n",
    "\\begin{align*}\n",
    "n! &= n \\cdot (n-1) \\cdot (n-2) \\cdot \\ldots \\cdot 3 \\cdot 2 \\cdot 1 = \\prod\\limits_{j=1}^n j,\n",
    "\\end{align*}\n",
    "\n",
    "přičemž $0! = 1$ dle konvence (prázdný produkt).\n",
    "\n",
    "Implementace odpovídajícího algoritmu v jazyku Python může vypadat následovně:"
   ]
  },
  {
   "cell_type": "code",
   "execution_count": null,
   "metadata": {},
   "outputs": [],
   "source": [
    "def factorial_iterative(n):    \n",
    "    product = 1\n",
    "    while n > 1:\n",
    "        product = product * n\n",
    "        n = n - 1\n",
    "\n",
    "    return product\n",
    "\n",
    "print(factorial_iterative(0))\n",
    "print(factorial_iterative(1))\n",
    "print(factorial_iterative(2))\n",
    "print(factorial_iterative(3))\n",
    "print(factorial_iterative(4))"
   ]
  },
  {
   "cell_type": "markdown",
   "metadata": {},
   "source": [
    "<div style=\"border-left: 5px solid green; padding-left: 1em\">\n",
    "<p><strong>Tip:</strong>\n",
    "Zkuste ve funkci <code>factorial_iterative</code> místo příkazu <code>while</code> použít příkaz <code>for</code> a funkci <code>range</code>.</p>\n",
    "</div>"
   ]
  },
  {
   "cell_type": "markdown",
   "metadata": {},
   "source": [
    "Alternativně můžeme faktoriál definovat rekurzivně:\n",
    "\n",
    "\\begin{align*}\n",
    "n! = \\begin{cases}\n",
    "    1 &\\quad \\text{pokud $n = 0$,} \\\\\n",
    "    n \\cdot (n-1)! &\\quad \\text{pokud $n \\ge 1$.}\n",
    "\\end{cases}\n",
    "\\end{align*}\n",
    "\n",
    "Zde je jasně vidět základní/počáteční podmínka pro ukončení rekurze, rekurzivní volání pro hodnotu o 1 menší a rekombinace výsledku menší úlohy s parametrem velké úlohy.\n",
    "Rekurzivní algoritmus tedy můžeme dostat pomocí obecné struktury popsané výše (místo výpustek `...` je třeba doplnit správný kód):"
   ]
  },
  {
   "cell_type": "code",
   "execution_count": null,
   "metadata": {},
   "outputs": [],
   "source": [
    "def factorial_recursive(n):\n",
    "    # ověření základní/počáteční podmínky\n",
    "    if ...:\n",
    "        return ...\n",
    "\n",
    "    # rekurzivní volání pro vyřešení menší úlohy\n",
    "    partial = factorial_recursive(...)\n",
    "\n",
    "    # rekombinace a vrácení finálního výsledku\n",
    "    return ...\n",
    "\n",
    "print(factorial_recursive(0))\n",
    "print(factorial_recursive(1))\n",
    "print(factorial_recursive(2))\n",
    "print(factorial_recursive(3))\n",
    "print(factorial_recursive(4))"
   ]
  },
  {
   "cell_type": "markdown",
   "metadata": {},
   "source": [
    "<div style=\"border-left: 5px solid green; padding-left: 1em\">\n",
    "<p><strong>Tip:</strong>\n",
    "Kliknutím na tlačítko <strong>pytutor</strong> v rozhraní JupyterLab se zobrazí grafická interpretace toho, co se v programu děje.\n",
    "Je důležité si uvědomit, že jednotlivá volání rekurzivní funkce jsou na sobě zcela nezávislá – mají různé hodnoty parametrů, nezávislé lokální proměnné, atd.\n",
    "V grafické interpretaci <strong>pytutor</strong> je to názorně zobrazeno.</p>\n",
    "</div>"
   ]
  },
  {
   "cell_type": "markdown",
   "metadata": {},
   "source": [
    "Všimněte si, že Python umožňuje poměrně efektivně pracovat s libovolně velkými celými čísly.\n",
    "Pomocí výše definovaných funkcí můžeme rychle spočítat např. hodnotu $100!$ (výpočet by měl trvat jen zlomek vteřiny):"
   ]
  },
  {
   "cell_type": "code",
   "execution_count": null,
   "metadata": {},
   "outputs": [],
   "source": [
    "factorial_iterative(100)"
   ]
  },
  {
   "cell_type": "markdown",
   "metadata": {},
   "source": [
    "## Fibonacciho posloupnost\n",
    "\n",
    "__Fibonacciho posloupnost__ je posloupnost nezáporných celých čísel $F_n$ pro $n \\in \\mathbb N_0$, která je definována následujícím rekurentním předpisem:\n",
    "\n",
    "$$\n",
    "F_n = \\begin{cases}\n",
    "    0 &\\quad \\text{pokud $n = 0$,} \\\\\n",
    "    1 &\\quad \\text{pokud $n = 1$,} \\\\\n",
    "    F_{n-2} + F_{n-1} &\\quad \\text{pokud $n \\ge 2$,} \\\\\n",
    "\\end{cases}\n",
    "$$\n",
    "\n",
    "Hodnoty této posloupnosti aproximují logaritmickou spirálu, ve které je faktor růstu roven hodnotě zlatého řezu:\n",
    "\n",
    "![](images/09/Fibonacci_Spiral.svg)"
   ]
  },
  {
   "cell_type": "markdown",
   "metadata": {},
   "source": [
    "Funkci pro výpočet Fibonacciho čísel naprogramujeme nejprve rekurzivním způsobem analogicky matematické definici uvedené výše (místo výpustek `...` je třeba doplnit správný kód):"
   ]
  },
  {
   "cell_type": "code",
   "execution_count": null,
   "metadata": {},
   "outputs": [],
   "source": [
    "def fib(n):\n",
    "    if ...:\n",
    "        # ověření první počáteční podmínky\n",
    "        return ...\n",
    "    elif ...:\n",
    "        # ověření druhé počáteční podmínky\n",
    "        return ...\n",
    "    else:\n",
    "        # rekurzivní volání pro vyřešení menších úloh\n",
    "        # rekombinace a vrácení finálního výsledku\n",
    "        return fib(...) + fib(...)\n",
    "\n",
    "print(fib(5))"
   ]
  },
  {
   "cell_type": "markdown",
   "metadata": {},
   "source": [
    "Tato implementace je sice velmi přehledná a přímočará, ale není vůbec efektivní.\n",
    "Při výpočtu funkce s danou hodnotou `n` totiž dochází k velkému množství větvení a opakovanému spouštění funkce s argumenty, které už byly spočítány dříve – viz interaktivní průchod nástrojem __pytutor__.\n",
    "Vyhodnocování funkce `fib` můžeme zobrazit pomocí stromové struktury:\n",
    "\n",
    "![](images/09/Fibonacci_tree.png)\n",
    "\n",
    "Pro větší hodnoty parametru `n` se výpočet velmi rychle zpomaluje (má exponenciální složitost).\n",
    "Rychlejšího programu s _lineární složitostí_ můžeme dosáhnout několika způsoby:\n",
    "\n",
    "1. pamatovat si předchozí výsledky volání funkce `fib` (pro tuhle implementaci teď nemáme dostatečné znalosti)\n",
    "2. použití rekurze chytřejším způsobem\n",
    "3. použití iteračního přístupu"
   ]
  },
  {
   "cell_type": "markdown",
   "metadata": {},
   "source": [
    "Chytřejší způsob použití rekurze pro Fibonacciho posloupnost může vypadat např. následovně:"
   ]
  },
  {
   "cell_type": "code",
   "execution_count": null,
   "metadata": {},
   "outputs": [],
   "source": [
    "def fib_recursive(n, a=0, b=1):\n",
    "    if n == 0:\n",
    "        # ověření první počáteční podmínky\n",
    "        return a\n",
    "    elif n == 1:\n",
    "        # ověření druhé počáteční podmínky\n",
    "        return b\n",
    "    else:\n",
    "        # rekurzivní krok a rekombinace\n",
    "        # parametry `a` a `b` představují poslední dvě spočítané hodnoty,\n",
    "        # zde dojde k výpočtu nové hodnoty a posunutí\n",
    "        return fib_recursive(n - 1, b, a + b)\n",
    "\n",
    "print(fib_recursive(8))"
   ]
  },
  {
   "cell_type": "markdown",
   "metadata": {},
   "source": [
    "Iterační funkci pro výpočet Fibonacciho čísel zkuste naprogramovat sami.\n",
    "Můžete využít následující kostru programu:"
   ]
  },
  {
   "cell_type": "code",
   "execution_count": null,
   "metadata": {},
   "outputs": [],
   "source": [
    "def fib_iterative(n):\n",
    "    # nastavení počátečních hodnot\n",
    "    term1 = 0\n",
    "    term2 = 1\n",
    "\n",
    "    # iterační výpočet\n",
    "    for i in range(...):\n",
    "        ...\n",
    "\n",
    "    return ...\n",
    "\n",
    "#print(fib_iterative(8))"
   ]
  },
  {
   "cell_type": "markdown",
   "metadata": {},
   "source": [
    "# Příklady"
   ]
  },
  {
   "cell_type": "markdown",
   "metadata": {},
   "source": [
    "## 1. Součet číslic\n",
    "\n",
    "Naprogramujte funkci `sum_digits(n)`, která rekurzivním způsobem spočítá součet číslic v desítkovém zápisu přirozeného čísla `n`. (Nerekurzivní algoritmus jsme již programovali na některém z předchozích cvičení.)"
   ]
  },
  {
   "cell_type": "code",
   "execution_count": null,
   "metadata": {},
   "outputs": [],
   "source": [
    "def sum_digits(n):\n",
    "    ...\n",
    "\n",
    "print(sum_digits(123))\n",
    "\n",
    "assert sum_digits(1234567890) == 1 + 2 + 3 + 4 + 5 + 6 + 7 + 8 + 9 + 0"
   ]
  },
  {
   "cell_type": "markdown",
   "metadata": {},
   "source": [
    "## 2. Spořící kalkulačka\n",
    "\n",
    "Na spořící účet vkládáme každý měsíc stejnou částku. Naprogramujte funkci, která pro zadaný počet měsíců, úrok a měsíční vklad spočte a vrátí uspořenou částku včetně úroků. Úlohu řešte nejprve pomocí rekurze a poté bez využití rekurze."
   ]
  },
  {
   "cell_type": "code",
   "execution_count": null,
   "metadata": {},
   "outputs": [],
   "source": [
    "def uspor_rekurzivne(mesice, urok, vklad):\n",
    "    ...\n",
    "\n",
    "print(uspor_rekurzivne(12, 3.3, 1000))"
   ]
  },
  {
   "cell_type": "code",
   "execution_count": null,
   "metadata": {},
   "outputs": [],
   "source": [
    "def uspor_bez_rekurze(mesice, urok, vklad):\n",
    "    ...\n",
    "\n",
    "print(uspor_bez_rekurze(12, 3.3, 1000))"
   ]
  },
  {
   "cell_type": "markdown",
   "metadata": {},
   "source": [
    "## 3. Největší společný dělitel dvou čísel\n",
    "\n",
    "Naprogramujte funkci, která spočítá a vrátí hodnotu největšího společného dělitele celých čísel `a` a `b`. Nejprve vymyslete svůj vlastní, \"naivní\" algoritmus:"
   ]
  },
  {
   "cell_type": "code",
   "execution_count": null,
   "metadata": {},
   "outputs": [],
   "source": [
    "def nsd_naive(a, b):\n",
    "    ...\n",
    "\n",
    "print(nsd_naive(140, 15))\n",
    "\n",
    "assert nsd_naive(288, 420) == 12"
   ]
  },
  {
   "cell_type": "markdown",
   "metadata": {},
   "source": [
    "Poté naprogramujte řešení stejné úlohy pomocí [Eukleidova algoritmu](https://cs.wikipedia.org/wiki/Eukleid%C5%AFv_algoritmus):"
   ]
  },
  {
   "cell_type": "code",
   "execution_count": null,
   "metadata": {},
   "outputs": [],
   "source": [
    "def nsd_euclid(a, b):\n",
    "    ...\n",
    "\n",
    "print(nsd_euclid(140, 15))\n",
    "\n",
    "assert nsd_euclid(288, 420) == 12"
   ]
  },
  {
   "cell_type": "markdown",
   "metadata": {},
   "source": [
    "## 4. Rekurze na předchozích cvičeních\n",
    "\n",
    "V některých příkladech z předchozích cvičení lze také výhodně použít rekurzi (např. řetězové zlomky apod)."
   ]
  }
 ],
 "metadata": {
  "kernelspec": {
   "display_name": "Python 3",
   "language": "python",
   "name": "python3"
  },
  "language_info": {
   "codemirror_mode": {
    "name": "ipython",
    "version": 3
   },
   "file_extension": ".py",
   "mimetype": "text/x-python",
   "name": "python",
   "nbconvert_exporter": "python",
   "pygments_lexer": "ipython3",
   "version": "3.11.5"
  },
  "orig_nbformat": 4
 },
 "nbformat": 4,
 "nbformat_minor": 2
}
