{
 "cells": [
  {
   "cell_type": "code",
   "execution_count": null,
   "id": "9ca58959",
   "metadata": {},
   "outputs": [],
   "source": [
    "import os\n",
    "os.chdir(\"/home/user/work\")\n",
    "os.system(\"git add .\")\n",
    "os.system(\"git commit -m jupyter\")\n",
    "os.system(\"git push -u origin\")"
   ]
  }
 ],
 "metadata": {
  "language_info": {
   "name": "python"
  }
 },
 "nbformat": 4,
 "nbformat_minor": 5
}
