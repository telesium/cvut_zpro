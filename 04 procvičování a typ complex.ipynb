{
 "cells": [
  {
   "cell_type": "markdown",
   "metadata": {},
   "source": [
    "# V minulém díle jste viděli..."
   ]
  },
  {
   "cell_type": "markdown",
   "metadata": {},
   "source": [
    "- Způsob kódování dat v paměti počítače: znaky, celá čísla a \"reálná\" čísla.\n",
    "- Použití funkcí `bool`, `int`, `float` a konstant `None`, `True`, `False`.\n",
    "- Importování modulu `math` a použití matematických konstant a funkci:"
   ]
  },
  {
   "cell_type": "code",
   "execution_count": 1,
   "metadata": {},
   "outputs": [
    {
     "name": "stdout",
     "output_type": "stream",
     "text": [
      "Číslo π je přibližně 3.141592653589793\n",
      "Hodnota cos(π) je  -1.0\n"
     ]
    }
   ],
   "source": [
    "import math\n",
    "\n",
    "print(\"Číslo π je přibližně\", math.pi)\n",
    "print(\"Hodnota cos(π) je \", math.cos(math.pi))"
   ]
  },
  {
   "cell_type": "markdown",
   "metadata": {},
   "source": [
    "- Jak odevzdávat úkoly v rozhraní Nbgrader"
   ]
  },
  {
   "cell_type": "markdown",
   "metadata": {},
   "source": [
    "# Typ `complex`"
   ]
  },
  {
   "cell_type": "markdown",
   "metadata": {},
   "source": [
    "Jazyk Python také umožňuje provádět výpočty s komplexními čísly, která jsou reprezentována pomocí typu `complex`.\n",
    "Komplexní číslo má reálnou a imaginární část, přičemž imaginární jednotka se značí _suffixem_ `j`:"
   ]
  },
  {
   "cell_type": "code",
   "execution_count": 2,
   "metadata": {},
   "outputs": [
    {
     "name": "stdout",
     "output_type": "stream",
     "text": [
      "c1 = (1+2j)\n",
      "c2 = (1-2j)\n"
     ]
    }
   ],
   "source": [
    "c1 = complex(1, 2)\n",
    "print(\"c1 =\", c1)\n",
    "\n",
    "c2 = 1 - 2j\n",
    "print(\"c2 =\", c2)"
   ]
  },
  {
   "cell_type": "markdown",
   "metadata": {},
   "source": [
    "__Pozor__ na to, že imaginární jednotka `j` musí vždy následovat bezprostředně za nějakou číslicí, jinak je `j` syntakticky interpretován jako identifikátor proměnné, který ani nemusí být komplexní číslo."
   ]
  },
  {
   "cell_type": "code",
   "execution_count": 3,
   "metadata": {},
   "outputs": [
    {
     "name": "stdout",
     "output_type": "stream",
     "text": [
      "3\n",
      "1j\n"
     ]
    }
   ],
   "source": [
    "j = 3\n",
    "print(j)\n",
    "print(1j)"
   ]
  },
  {
   "cell_type": "markdown",
   "metadata": {},
   "source": [
    "S hodnotami typu `complex` můžeme provádět téměř všechny aritmetické operace stejně jako pro typ `int`, s výjimkou operátoru `%` (zbytek po celočíselném dělení).\n",
    "Viz tabulka v předchozím cvičení."
   ]
  },
  {
   "cell_type": "markdown",
   "metadata": {},
   "source": [
    "Typ `complex` představuje první _složený_ datový typ, se kterým jsme se setkali.\n",
    "Hodnoty typu `complex` jsou složené z reálné a imaginární části, které mají typ `float` a lze k nim přistoupit pomocí tzv. _atributů_ `.real` a `.imag`.\n",
    "Typ `complex` dále poskytuje tzv. _metodu_ `.conjugate()`, která provádí komplexní sdružení."
   ]
  },
  {
   "cell_type": "code",
   "execution_count": 4,
   "metadata": {},
   "outputs": [
    {
     "name": "stdout",
     "output_type": "stream",
     "text": [
      "reálná část: 1.0\n",
      "imaginární část: 2.0\n",
      "komplexně sdružené číslo: (1-2j)\n"
     ]
    }
   ],
   "source": [
    "c = 1 + 2j\n",
    "print(\"reálná část:\", c.real)\n",
    "print(\"imaginární část:\", c.imag)\n",
    "print(\"komplexně sdružené číslo:\", c.conjugate())"
   ]
  },
  {
   "cell_type": "markdown",
   "metadata": {},
   "source": [
    "## Příklady"
   ]
  },
  {
   "cell_type": "markdown",
   "metadata": {},
   "source": [
    "1. Napište program, který spočítá vzdálenost dvou komplexních čísel."
   ]
  },
  {
   "cell_type": "code",
   "execution_count": null,
   "metadata": {},
   "outputs": [],
   "source": []
  },
  {
   "cell_type": "markdown",
   "metadata": {},
   "source": [
    "2. Použijte jazyk Python pro vyřešení kvadratické rovnice $\\pi x^2 + 2x + 1 = 0$. (Řešení tohoto příkladu nemusí být univerzální program, stačí posloupnost příkazů s výpočty, které byste prováděli \"na papíře\".)"
   ]
  },
  {
   "cell_type": "code",
   "execution_count": null,
   "metadata": {},
   "outputs": [],
   "source": []
  },
  {
   "cell_type": "markdown",
   "metadata": {},
   "source": [
    "# Práce s proměnnými v Pythonu"
   ]
  },
  {
   "cell_type": "markdown",
   "metadata": {},
   "source": [
    "Pojem __proměnná__ (anglicky _variable_) představuje oblast v paměti počítače, která je vyhrazena pro uložení odkazu na nějakou hodnotu, kterou si chceme zapamatovat.\n",
    "Abychom mohli s proměnnými v programech pracovat, musíme je pojmenovat.\n",
    "Kdykoliv potom v kódu použijete název proměnné, interpret zařídí dosazení hodnoty, na kterou se daná proměnná odkazuje.\n",
    "\n",
    "Pojem __identifikátor__ představuje název proměnné, který vystupuje ve zdrojovém kódu.\n",
    "V Pythonu platí pro identifikátory následující pravidla:\n",
    "\n",
    "- Smějí obsahovat písmena, číslice a podtržítka.\n",
    "- Nesmějí začínat číslicí.\n",
    "- Rozlišuje se v nich velikost písmen. Identifikátory `ahoj`, `Ahoj` a `AHOJ` tedy představují různé proměnné.\n",
    "- Nesmějí být shodné s některým klíčovým slovem, což jsou slova, která mají v jazyce speciální význam.\n",
    "  Zatím jsme potkali tato klíčová slova: `True`, `False`, `None` a k dalším se dostaneme později.\n",
    "  Jejich seznam není potřeba se učit nazpaměť – v nových verzích jazyka se postupně rozšiřuje a pokud byste náhodou porušili toto pravidlo, interpret vám oznámí syntaktickou chybu.\n",
    "\n",
    "Nejdůležitější zásadou je volit názvy proměnných tak, aby co nejlépe naznačovaly jejich účel a aby se _při čtení kódu člověkem_ nepletly s ostatními názvy používanými v programu.\n",
    "Nejběžnější konvence pro pojmenování proměnných v Pythonu používá pouze malá písmena a znak `_` pro spojení více slov: `proměnná_s_dlouhým_názvem`."
   ]
  },
  {
   "cell_type": "markdown",
   "metadata": {},
   "source": [
    "## Inicializace a předefinování proměnných\n",
    "\n",
    "Novou proměnnou vytvoříme pomocí přiřazovacího operátoru `=`, kde na levé straně vystupuje nový identifikátor a na pravé straně výraz, který po vyhodnocení inicializuje danou proměnnou:"
   ]
  },
  {
   "cell_type": "code",
   "execution_count": 5,
   "metadata": {},
   "outputs": [],
   "source": [
    "a = 1\n",
    "b = a + 2"
   ]
  },
  {
   "cell_type": "markdown",
   "metadata": {},
   "source": [
    "Proměnná se však odkazuje výslednou hodnotu inicializačního výrazu, nikoliv na celý výraz.\n",
    "Pokud bychom např. v předchozí buňce dále změnili hodnotu proměnné `a`, nemělo by to vliv na proměnnou `b`.\n",
    "\n",
    "Pokud již inicializovaná proměnná existuje, tedy název se již odkazuje na nějakou hodnotu, dojde jednoduše ke změně odkazu na novou hodnotu.\n",
    "Při tom může dojít ke změně typu, tedy proměnná není vázána na typ hodnoty použitý při inicializaci."
   ]
  },
  {
   "cell_type": "markdown",
   "metadata": {},
   "source": [
    "Jazyk Python pracuje s odkazy na hodnoty, tj. s proměnnými, stejně jako s odkazy na jiné objekty, se kterými se postupně seznámíme.\n",
    "Umožňuje tedy např. vytvářet nové odkazy na funkce a dokonce \"předefinovat\" existující odkaz na funkci jiným objektem:"
   ]
  },
  {
   "cell_type": "code",
   "execution_count": 6,
   "metadata": {},
   "outputs": [
    {
     "name": "stdout",
     "output_type": "stream",
     "text": [
      "Hello, world!\n"
     ]
    }
   ],
   "source": [
    "a = print\n",
    "print = \"Hello, world!\"\n",
    "a(print)\n",
    "print = a"
   ]
  },
  {
   "cell_type": "markdown",
   "metadata": {},
   "source": [
    "## Proměnné a buňky v Jupyter notebooku\n",
    "\n",
    "Seznam aktuálně definovaných proměnných můžeme zobrazit kliknutím na tlačítko\n",
    "<svg viewBox=\"0 0 24 24\" width=\"16\" xmlns=\"http://www.w3.org/2000/svg\" data-icon=\"ui-components:bug\"><g xmlns=\"http://www.w3.org/2000/svg\" class=\"jp-icon3 jp-icon-selectable\" fill=\"#616161\"><path d=\"M20 8h-2.81c-.45-.78-1.07-1.45-1.82-1.96L17 4.41 15.59 3l-2.17 2.17C12.96 5.06 12.49 5 12 5c-.49 0-.96.06-1.41.17L8.41 3 7 4.41l1.62 1.63C7.88 6.55 7.26 7.22 6.81 8H4v2h2.09c-.05.33-.09.66-.09 1v1H4v2h2v1c0 .34.04.67.09 1H4v2h2.81c1.04 1.79 2.97 3 5.19 3s4.15-1.21 5.19-3H20v-2h-2.09c.05-.33.09-.66.09-1v-1h2v-2h-2v-1c0-.34-.04-.67-.09-1H20V8zm-6 8h-4v-2h4v2zm0-4h-4v-2h4v2z\"></path></g></svg> (_Enable Debugger_) v horním panelu a následným zobrazením _debuggeru_ na pravé straně.\n",
    "V rozhraní JupyterLab je zde opět ikona brouka, v rozhraní Jupyter Notebook je tlačítko v menu _View → Right Sidebar → Show Debugger_.\n",
    "\n",
    "V prostředí Jupyter se notebooky obsahující buňky s kódem mohou chovat na první pohled nečekaným způsobem.\n",
    "Proměnné definované v jedné buňce totiž po jejím spuštění zůstanou definované v interpretu zpracovávajícího daný notebook a můžou ovlivnit chování při vyhodnocování kódu dále spouštěných buněk.\n",
    "Zkuste například opakovaně spouštět následující dvě buňky v různém pořadí a sledujte stav proměnných v _debuggeru_:"
   ]
  },
  {
   "cell_type": "code",
   "execution_count": 7,
   "metadata": {},
   "outputs": [],
   "source": [
    "a = 0"
   ]
  },
  {
   "cell_type": "code",
   "execution_count": 8,
   "metadata": {},
   "outputs": [],
   "source": [
    "a = a + 1"
   ]
  },
  {
   "cell_type": "markdown",
   "metadata": {},
   "source": [
    "__K zamyšlení:__ co se stane po restartování kernelu pro tento notebook a spuštění pouze druhé z těchto buněk?"
   ]
  },
  {
   "cell_type": "markdown",
   "metadata": {},
   "source": [
    "# Příklady"
   ]
  },
  {
   "cell_type": "markdown",
   "metadata": {},
   "source": [
    "Dokončete všechny příklady z minulého cvičení."
   ]
  }
 ],
 "metadata": {
  "kernelspec": {
   "display_name": "Python 3 (ipykernel)",
   "language": "python",
   "name": "python3"
  },
  "language_info": {
   "codemirror_mode": {
    "name": "ipython",
    "version": 3
   },
   "file_extension": ".py",
   "mimetype": "text/x-python",
   "name": "python",
   "nbconvert_exporter": "python",
   "pygments_lexer": "ipython3",
   "version": "3.13.7"
  }
 },
 "nbformat": 4,
 "nbformat_minor": 4
}
