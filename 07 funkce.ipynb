{
 "cells": [
  {
   "cell_type": "markdown",
   "metadata": {},
   "source": [
    "# V minulém díle jste viděli..."
   ]
  },
  {
   "cell_type": "markdown",
   "metadata": {},
   "source": [
    "Podmíněný příkaz `if` s volitelnými bloky `elif` a `else`:"
   ]
  },
  {
   "cell_type": "code",
   "execution_count": 1,
   "metadata": {},
   "outputs": [
    {
     "name": "stdout",
     "output_type": "stream",
     "text": [
      "číslo se rovná 0\n"
     ]
    }
   ],
   "source": [
    "a = 0\n",
    "if a > 0:\n",
    "    print(\"číslo je kladné\")\n",
    "elif a == 0:\n",
    "    print(\"číslo se rovná 0\")\n",
    "else:\n",
    "    print(\"číslo není kladné\")"
   ]
  },
  {
   "cell_type": "markdown",
   "metadata": {},
   "source": [
    "Podmíněný výraz:"
   ]
  },
  {
   "cell_type": "code",
   "execution_count": 2,
   "metadata": {},
   "outputs": [],
   "source": [
    "x = -1\n",
    "y = 2\n",
    "z = x if x + y > 0 else y"
   ]
  },
  {
   "cell_type": "markdown",
   "metadata": {},
   "source": [
    "Příkaz `while`:"
   ]
  },
  {
   "cell_type": "code",
   "execution_count": 3,
   "metadata": {},
   "outputs": [
    {
     "name": "stdout",
     "output_type": "stream",
     "text": [
      "0\n",
      "1\n",
      "2\n",
      "3\n",
      "4\n"
     ]
    }
   ],
   "source": [
    "n = 0\n",
    "while n <= 4:\n",
    "    print(n)\n",
    "    n += 1"
   ]
  },
  {
   "cell_type": "markdown",
   "metadata": {},
   "source": [
    "Příkazy `break` a `continue` sloužící pro podrobnější kontrolu provádění cyklů."
   ]
  },
  {
   "cell_type": "markdown",
   "metadata": {},
   "source": [
    "Příkaz `for` využívající funkci `range` jako zdroj hodnot:"
   ]
  },
  {
   "cell_type": "code",
   "execution_count": 4,
   "metadata": {},
   "outputs": [
    {
     "name": "stdout",
     "output_type": "stream",
     "text": [
      "10\n",
      "7\n",
      "4\n",
      "1\n"
     ]
    }
   ],
   "source": [
    "for n in range(10, 0, -3):\n",
    "    print(n)"
   ]
  },
  {
   "cell_type": "markdown",
   "metadata": {},
   "source": [
    "# Strukturování programu: funkce"
   ]
  },
  {
   "cell_type": "markdown",
   "metadata": {},
   "source": [
    "__Funkce__ jsou patrně nejdůležitější prvek programovacích jazyků, který slouží ke strukturování programu.\n",
    "Umožňují totiž _pojmenovat_ určitou skupinu příkazů, které potom lze použít opakovaně s různými vstupními parametry.\n",
    "Pokud tedy programujeme algoritmus pro řešení nějaké úlohy, můžeme jej umístit do samostatné funkce, abychom při opakovaném řešení úlohy s jinými daty nemuseli znovu programovat ten samý algoritmus.\n",
    "Funkce tedy programátorům umožňují dodržovat princip [don't repeat yourself (DRY)](https://en.wikipedia.org/wiki/Don%27t_repeat_yourself)."
   ]
  },
  {
   "cell_type": "markdown",
   "metadata": {},
   "source": [
    "## Příkaz `def` – definice funkce"
   ]
  },
  {
   "cell_type": "markdown",
   "metadata": {},
   "source": [
    "Příkaz `def` je složený příkaz, který se skládá z _hlavičky_ a _těla funkce_.\n",
    "Hlavička se skládá z klíčového slova `def`, názvu funkce, seznamu parametrů uvnitř kulatých závorek a závěrečné dvojtečky.\n",
    "Tělo funkce následující za dvojtečkou tvoří blok příkazů se správným odsazením dle _univerzálního syntaktického pravidla_.\n",
    "\n",
    "Zápis se nejlépe vysvětlí pomocí příkladů.\n",
    "Následující funkce `print_demo` nemá žádný parametr:"
   ]
  },
  {
   "cell_type": "code",
   "execution_count": 5,
   "metadata": {},
   "outputs": [],
   "source": [
    "def print_demo():\n",
    "    print(\"Byla spuštěna funkce 'print_demo'.\")"
   ]
  },
  {
   "cell_type": "markdown",
   "metadata": {},
   "source": [
    "Funkce `print_demo1` má jeden parametr:"
   ]
  },
  {
   "cell_type": "code",
   "execution_count": 6,
   "metadata": {},
   "outputs": [],
   "source": [
    "def print_demo1(param):\n",
    "    print(\"Hodnota parametru je\", param)"
   ]
  },
  {
   "cell_type": "markdown",
   "metadata": {},
   "source": [
    "Funkce `print_demo2` má dva parametry:"
   ]
  },
  {
   "cell_type": "code",
   "execution_count": 7,
   "metadata": {},
   "outputs": [],
   "source": [
    "def print_demo2(param1, param2):\n",
    "    print(\"Hodnota prvního parametru je\", param1)\n",
    "    print(\"Hodnota druhého parametru je\", param2)"
   ]
  },
  {
   "cell_type": "markdown",
   "metadata": {},
   "source": [
    "Všimněte si, že při spuštění příkazu `def` nedošlo ke spuštění příkazů v těle dané funkce.\n",
    "Při definici funkce dojde pouze k vytvoření objektu, který reprezentuje danou funkci a obsahuje kód definovaný v těle funkce.\n",
    "Odkaz na tento objekt se uloží do proměnné s názvem dané funkce.\n",
    "\n",
    "Výpis samotného objektu reprezentujícího funkci vypadá takto:"
   ]
  },
  {
   "cell_type": "code",
   "execution_count": 8,
   "metadata": {},
   "outputs": [
    {
     "name": "stdout",
     "output_type": "stream",
     "text": [
      "<function print_demo at 0x7fbe646f1940>\n"
     ]
    }
   ],
   "source": [
    "print(print_demo)"
   ]
  },
  {
   "cell_type": "markdown",
   "metadata": {},
   "source": [
    "Pokud chceme funkci použít, musíme ji _zavolat_ pomocí kulatých závorek, přičemž musíme předat správný počet argumentů odpovídající definici funkce, jinak dojde k chybě:"
   ]
  },
  {
   "cell_type": "code",
   "execution_count": 9,
   "metadata": {},
   "outputs": [
    {
     "name": "stdout",
     "output_type": "stream",
     "text": [
      "Byla spuštěna funkce 'print_demo'.\n",
      "Hodnota parametru je 10\n",
      "Hodnota prvního parametru je 10\n",
      "Hodnota druhého parametru je 20\n"
     ]
    }
   ],
   "source": [
    "print_demo()        # zde nepředáváme žádný argument\n",
    "print_demo1(10)     # číslo 10 je argument pro parametr 'param'\n",
    "print_demo2(10, 20) # čísla 10 je argument pro parametr 'param1', 20 je argument pro parametr 'param2'"
   ]
  },
  {
   "cell_type": "markdown",
   "metadata": {},
   "source": [
    "Syntaxe příkazu `def` má mnoho různých variant, které souvisí zejména s definicí seznamu parametrů funkce.\n",
    "Zatím se jimi nebudeme zabývat a postupně se k tomuto tématu budeme vracet."
   ]
  },
  {
   "cell_type": "markdown",
   "metadata": {},
   "source": [
    "### Příklad"
   ]
  },
  {
   "cell_type": "markdown",
   "metadata": {},
   "source": [
    "Napište funkci `say_hello(name)`, která vypíše pozdrav pro uživatele se zadaným jménem. (Anglicky, abychom nemuseli skloňovat...). Funkci několikrát zavolejte, vyzkoušejte různé hodnoty argumentu."
   ]
  },
  {
   "cell_type": "code",
   "execution_count": null,
   "metadata": {},
   "outputs": [],
   "source": []
  },
  {
   "cell_type": "markdown",
   "metadata": {},
   "source": [
    "## Příkaz `return` – vrácení výsledku funkce\n",
    "\n",
    "V matematice se pojmem funkce označuje předpis, který ze vstupní hodnoty (případně vstupních hodnot) počítá nějakou výstupní hodnotu.\n",
    "Předchozí příklady funkcí `print_demo` atd. nemají žádný výsledek.\n",
    "K vrácení výsledné hodnoty zevnitř funkce na místo, kde byla funkce zavolána, slouží příkaz `return`.\n",
    "Volání funkce je výraz, může tedy vystupovat např. napravo od přiřazovacího operátoru:"
   ]
  },
  {
   "cell_type": "code",
   "execution_count": null,
   "metadata": {},
   "outputs": [
    {
     "name": "stdout",
     "output_type": "stream",
     "text": [
      "-0.25\n"
     ]
    }
   ],
   "source": [
    "def polynom(x):\n",
    "    return x ** 2 - 3 * x + 1\n",
    "\n",
    "vysledek = polynom(2.5)\n",
    "print(vysledek)"
   ]
  },
  {
   "cell_type": "markdown",
   "metadata": {},
   "source": [
    "Příkazem `return` končí vykonávání dané funkce a žádné další příkazy z těla funkce se nevykonají.\n",
    "To je důležité zejména pokud funkce obsahuje příkazy `return` uvnitř podmínek nebo cyklů.\n",
    "Pokud funkce neobsahuje žádný příkaz `return` nebo pokud dojde k vykonání prázdného příkazu `return` (tj. ukončení funkce bez vrácení hodnoty), je výsledkem funkce hodnota `None`:"
   ]
  },
  {
   "cell_type": "code",
   "execution_count": null,
   "metadata": {},
   "outputs": [
    {
     "name": "stdout",
     "output_type": "stream",
     "text": [
      "Definiční obor této funkce nezahrnuje záporná čísla.\n",
      "None\n"
     ]
    }
   ],
   "source": [
    "def polynom(x):\n",
    "    if x < 0:\n",
    "        print(\"Definiční obor této funkce nezahrnuje záporná čísla.\")\n",
    "        return\n",
    "    return x ** 2 - 3 * x + 1\n",
    "\n",
    "vysledek = polynom(-1)\n",
    "print(vysledek)"
   ]
  },
  {
   "cell_type": "markdown",
   "metadata": {},
   "source": [
    "### Příklad"
   ]
  },
  {
   "cell_type": "markdown",
   "metadata": {},
   "source": [
    "1. Napište funkci `je_sudé(n)`, která vrací `True` nebo `False` podle toho, jestli je zadané přirozené číslo `n` sudé nebo není. Funkci zavolejte."
   ]
  },
  {
   "cell_type": "code",
   "execution_count": null,
   "metadata": {},
   "outputs": [],
   "source": []
  },
  {
   "cell_type": "markdown",
   "metadata": {},
   "source": [
    "2. Analogicky napište funkci `je_liché(n)`. Využijte při tom předchozí funkci. Funkci zavolejte."
   ]
  },
  {
   "cell_type": "code",
   "execution_count": null,
   "metadata": {},
   "outputs": [],
   "source": []
  },
  {
   "cell_type": "markdown",
   "metadata": {},
   "source": [
    "## Proměnné a obor platnosti\n",
    "\n",
    "Lokální proměnná je proměnná, která je definovaná uvnitř funkce.\n",
    "Jakmile skončí vykonávání dané funkce, zaniknou i všechny lokální proměnné definované uvnitř dané funkce.\n",
    "\n",
    "Uvnitř funkce máme naopak přístup objektům s širším oborem platnosti, jako jsou např. globální proměnné, ale i globálně importované moduly, jiné funkce definované na stejné úrovni, apod.\n",
    "Názvy definované na vyšší úrovni ale můžeme pouze použít, nemůžeme je změnit – viz následující příklad:"
   ]
  },
  {
   "cell_type": "code",
   "execution_count": 10,
   "metadata": {},
   "outputs": [
    {
     "name": "stdout",
     "output_type": "stream",
     "text": [
      "lokalni 11\n",
      "globalni 10\n"
     ]
    }
   ],
   "source": [
    "# globální proměnná\n",
    "globalni = 10\n",
    "\n",
    "def f():\n",
    "    # lokální proměnná\n",
    "    lokalni = 1\n",
    "\n",
    "    # použití globální proměnné\n",
    "    lokalni += globalni\n",
    "\n",
    "    # uvnitř funkce nelze měnit globální proměnné\n",
    "    #globalni += 1\n",
    "\n",
    "    # výpis lokálních proměnných\n",
    "    print(\"lokalni\", lokalni)\n",
    "\n",
    "# použití funkce\n",
    "f()\n",
    "\n",
    "# výpis globálních proměnných\n",
    "print(\"globalni\", globalni)\n",
    "\n",
    "# lokální proměnné definované uvnitř funkce nejsou k dispozici na globální úrovni\n",
    "#print(lokalni)"
   ]
  },
  {
   "cell_type": "markdown",
   "metadata": {},
   "source": [
    "<div style=\"border-left: 5px solid green; padding-left: 1em\">\n",
    "<p><strong>Tip:</strong>\n",
    "Kliknutím na tlačítko <strong>pytutor</strong> v rozhraní JupyterLab se zobrazí grafická interpretace toho, co se v programu děje.</p>\n",
    "</div>"
   ]
  },
  {
   "cell_type": "markdown",
   "metadata": {},
   "source": [
    "Pokud bychom uvnitř funkce použili přiřazení jako např. `globalni = 1` v následujícím příkladu, není to chyba, ale je důležité si uvědomit, co se v programu děje.\n",
    "Příkaz přiřazení totiž vytváří novou proměnnou, ke které připojí daný název.\n",
    "V tomto případě tedy vzniká nová __lokální proměnná__ s názvem `globalni` a hodnotou `1` a její název na lokální úrovni překryje globální proměnnou se stejným názvem, jde však o dva různé objekty:"
   ]
  },
  {
   "cell_type": "code",
   "execution_count": 11,
   "metadata": {},
   "outputs": [
    {
     "name": "stdout",
     "output_type": "stream",
     "text": [
      "hodnota uvnitř funkce: 1\n",
      "hodnota mimo funkci: 10\n"
     ]
    }
   ],
   "source": [
    "# globální proměnná\n",
    "globalni = 10\n",
    "\n",
    "def f():\n",
    "    # zde dojde k vytvoření lokální proměnné, která překryje proměnnou na globální úrovni\n",
    "    globalni = 1\n",
    "\n",
    "    print(\"hodnota uvnitř funkce:\", globalni)\n",
    "\n",
    "# použití funkce\n",
    "f()\n",
    "\n",
    "# funkce f nezměnila globální proměnnou\n",
    "print(\"hodnota mimo funkci:\", globalni)"
   ]
  },
  {
   "cell_type": "markdown",
   "metadata": {},
   "source": [
    "K podobné shodě názvu proměnných může docházet poměrně často, ale není třeba se tohoto chování bát.\n",
    "Vykonávání příkazů dané funkce probíhá ve svém vlastním _lokálním světě_, který s _globálním světem_ komunikuje především pomocí vstupních parametrů a výstupní návratové hodnoty (viz dále).\n",
    "Spíš by bylo nepříjemné, kdyby funkce modifikovala okolní stav nějakým jiným, nepřehledným způsobem."
   ]
  },
  {
   "cell_type": "markdown",
   "metadata": {},
   "source": [
    "# Příklady"
   ]
  },
  {
   "cell_type": "markdown",
   "metadata": {},
   "source": [
    "1. Definujte a zavolejte funkci `je_dělitelné(n, d)`, která vrací `True` nebo `False` podle toho, jestli je zadané přirozené číslo `n` dělitelné číslem `d`."
   ]
  },
  {
   "cell_type": "code",
   "execution_count": null,
   "metadata": {},
   "outputs": [],
   "source": []
  },
  {
   "cell_type": "markdown",
   "metadata": {},
   "source": [
    "2.  Napište a zavolejte funkci `počet_dělitelů(n)`, která spočítá a vrátí počet dělitelů přirozeného čísla `n`. Využijte funkci naprogramovanou v předchozím příkladu."
   ]
  },
  {
   "cell_type": "code",
   "execution_count": null,
   "metadata": {},
   "outputs": [],
   "source": []
  },
  {
   "cell_type": "markdown",
   "metadata": {},
   "source": [
    "3. Napište a zavolejte funkci `vypiš_dělitele(n)`, která vypíše všechny dělitele přirozeného čísla `n`."
   ]
  },
  {
   "cell_type": "code",
   "execution_count": null,
   "metadata": {},
   "outputs": [],
   "source": []
  },
  {
   "cell_type": "markdown",
   "metadata": {},
   "source": [
    "4. Napište a zavolejte funkci `bmi(hmotnost, výška)`, která ze zadaných parametrů spočítá index BMI a vrátí výsledek jako číselnou hodnotu."
   ]
  },
  {
   "cell_type": "code",
   "execution_count": null,
   "metadata": {},
   "outputs": [],
   "source": []
  },
  {
   "cell_type": "markdown",
   "metadata": {},
   "source": [
    "5. Naprogramujte funkci `součet_číslic(n)`, která spočítá součet číslic v desítkovém zápisu přirozeného čísla `n`."
   ]
  },
  {
   "cell_type": "code",
   "execution_count": null,
   "metadata": {},
   "outputs": [],
   "source": []
  },
  {
   "cell_type": "markdown",
   "metadata": {},
   "source": [
    "6. Naprogramujte funkci `remove(n, digit)`, která z desítkového zápisu zadaného přirozeného čísla `n` odstraní všechny číslice, které se rovnají hodnotě `digit`. Např.:\n",
    "\n",
    "    - `remove(123, 2)` → `13`\n",
    "    - `remove(243132, 3)` → `2412`"
   ]
  },
  {
   "cell_type": "code",
   "execution_count": null,
   "metadata": {},
   "outputs": [],
   "source": []
  },
  {
   "cell_type": "markdown",
   "metadata": {},
   "source": [
    "Pro procvičení můžete dále zkusit upravit libovolný příklad z předchozích cvičení a definovat v něm vhodnou funkci."
   ]
  }
 ],
 "metadata": {
  "kernelspec": {
   "display_name": "Python 3 (ipykernel)",
   "language": "python",
   "name": "python3"
  },
  "language_info": {
   "codemirror_mode": {
    "name": "ipython",
    "version": 3
   },
   "file_extension": ".py",
   "mimetype": "text/x-python",
   "name": "python",
   "nbconvert_exporter": "python",
   "pygments_lexer": "ipython3",
   "version": "3.13.7"
  }
 },
 "nbformat": 4,
 "nbformat_minor": 4
}
