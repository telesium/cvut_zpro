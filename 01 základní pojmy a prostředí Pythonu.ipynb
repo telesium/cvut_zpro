{
 "cells": [
  {
   "cell_type": "markdown",
   "metadata": {},
   "source": [
    "# Základní pojmy"
   ]
  },
  {
   "cell_type": "markdown",
   "metadata": {},
   "source": [
    "## Počítač\n",
    "\n",
    "[Počítač](https://cs.wikipedia.org/wiki/Po%C4%8D%C3%ADta%C4%8D) je digitální elektronický stroj, který lze naprogramovat tak, aby automaticky prováděl posloupnosti aritmetických nebo logických operací (výpočty).\n",
    "Moderní počítače dokáží provádět obecné množiny operací známé jako programy.\n",
    "Tyto programy umožňují počítačům provádět širokou škálu úloh.\n",
    "\n",
    "Fyzické vybavení počítače se označuje jako __hardware__ a může mít mnoho různých podob, od serverů přes osobní počítače a notebooky až po mobilní zařízení jako telefony a hodinky.\n",
    "Programové a datové vybavení počítače tvoří __software__, který zahrnuje operační systém, uživatelské programy a data.\n",
    "\n",
    "Převážná většina dnešních počítačů je navržena na principu [von Neumannovy architektury](https://cs.wikipedia.org/wiki/Von_Neumannova_architektura):\n",
    "\n",
    "![](images/01/Von_Neumann_Architecture_CZ.svg)\n",
    "\n",
    "- procesor obsahující řídící jednotku (řadič) a aritmeticko-logickou jednotku (ALU) zpracovává jednotlivé instrukce\n",
    "- paměť uchovává data i instrukce programu\n",
    "- externí vstupní a výstupní zařízení (periferie) umožňují interakci počítače se světem"
   ]
  },
  {
   "cell_type": "markdown",
   "metadata": {},
   "source": [
    "## Program\n",
    "\n",
    "[Počítačový program](https://cs.wikipedia.org/wiki/Po%C4%8D%C3%ADta%C4%8Dov%C3%BD_program) je posloupnost instrukcí, která popisuje realizaci dané úlohy počítačem.\n",
    "Aby počítač mohl vykonávat nějakou činnost, potřebuje mít ve své operační paměti alespoň jeden program.\n",
    "V současné době je v počítači základním programem jádro operačního systému, které řídí jeho chod a umožňuje uživateli spouštět další programy (aplikační software)."
   ]
  },
  {
   "cell_type": "markdown",
   "metadata": {},
   "source": [
    "## Algoritmus\n",
    "\n",
    "[Algoritmus](https://cs.wikipedia.org/wiki/Algoritmus) je přesný návod či postup, kterým lze vyřešit danou úlohu.\n",
    "Pojem algoritmus se nejčastěji objevuje při programování, kdy se jím myslí teoretický princip řešení problému (oproti konkrétnímu zápisu programu v nějakém programovacím jazyce).\n",
    "Obecně se ale algoritmus může objevit v jakémkoli jiném, vědeckém i nevědeckém odvětví (např. kuchařský recept v kulinářském umění).\n",
    "\n",
    "Zpravidla však na algoritmy klademe určité požadavky:\n",
    "\n",
    "1. __Elementárnost:__\n",
    "   Algoritmus se skládá z konečného počtu jednoduchých (elementárních) kroků.\n",
    "   \n",
    "2. __Konečnost (finitnost):__\n",
    "   Každý algoritmus musí skončit v konečném počtu kroků. Tento počet kroků může být libovolně velký (podle rozsahu a hodnot vstupních údajů), ale pro každý jednotlivý vstup musí být konečný.\n",
    "\n",
    "3. __Obecnost (hromadnost, masovost, univerzálnost):__\n",
    "   Algoritmus neřeší jeden konkrétní problém (např. „jak spočítat 3×7“), ale obecnou třídu úloh pro širokou množinu možných vstupů (např. „jak spočítat součin dvou celých čísel“).\n",
    "\n",
    "4. __Determinovanost:__\n",
    "   Každý krok algoritmu musí být jednoznačně a přesně definován. V každé situaci musí být naprosto zřejmé, co a jak se má provést, jak má provádění algoritmu pokračovat.\n",
    "\n",
    "5. __Výstup:__\n",
    "   Algoritmus má alespoň jeden výstup, veličinu, která je v požadovaném vztahu k zadaným vstupům, a tím tvoří odpověď na úlohu, kterou algoritmus řeší. Algoritmus tedy vede od zpracování vstupních hodnot k výstupu.\n",
    "\n",
    "Algoritmy lze neformálně vyjadřovat pomocí [pseudokódu](https://cs.wikipedia.org/wiki/Pseudok%C3%B3d) nebo pomocí [vývojového diagramu](https://cs.wikipedia.org/wiki/V%C3%BDvojov%C3%BD_diagram). Např. pro výpočet faktoriálu:\n",
    "\n",
    "1. Přečti číslo $N$.\n",
    "2. Nastav čísla $M=1$ a $F=1$.\n",
    "3. Spočítej součin $M \\times F$ a výsledek označ jako $F$.\n",
    "4. Ověř, jestli se čísla $M$ a $N$ rovnají:\n",
    "   - pokud ano, pokračuj krokem 5.\n",
    "   - pokud ne, zvětši hodnotu čísla $M$ o 1 a pokračuj krokem 3.\n",
    "5. Prohlaš číslo $F$ za výsledek a skonči.\n",
    "\n",
    "<div>\n",
    "<img src=\"images/01/Factorial Flowchart.png\" style=\"max-width: 30em\"/>\n",
    "</div>\n",
    "\n",
    "### Analýza algoritmů\n",
    "\n",
    "Analýzou algoritmů se zabývá předmět 18ZALG v letním semestru. Pokročilé partie analýzy algoritmů a teorie složitosti jsou náplní předmětů 01TSLO, 01PAA, 01PALG v navazujícím magisterském studiu (pouze některé obory)."
   ]
  },
  {
   "cell_type": "markdown",
   "metadata": {},
   "source": [
    "# Programovací jazyky"
   ]
  },
  {
   "cell_type": "markdown",
   "metadata": {},
   "source": [
    "[Programovací jazyk](https://cs.wikipedia.org/wiki/Programovac%C3%AD_jazyk) je prostředek pro vytváření programů, tedy zápis algoritmů tak, aby mohly být provedeny na počítači.\n",
    "Programovací jazyk je komunikačním nástrojem mezi programátorem, který v programovacím jazyce formuluje postup řešení daného problému, a počítačem, který program interpretuje technickými prostředky.\n",
    "\n",
    "V době, kdy vznikaly první počítače, bylo nutné programovat přímo ve _strojovém kódu_, později v tzv. _jazyku symbolických adres/instrukcí_ (_assembler_) a ještě později vznikly první _vyšší programovací jazyky_.\n",
    "Tento trend zvyšování míry abstrakce pokračuje dále a v dnešní době je důležitější efektivita práce programátora, než zpracování kódu počítačem.\n",
    "__Proto je nezbytné naučit se psát programy tak, aby jim rozuměli i ostatní lidé a ne jen počítače.__\n",
    "\n",
    "Programovací jazyky dělíme dle různých kritérií:\n",
    "\n",
    "- dle míry abstrakce: nízkoúrovňové a vysokoúrovňové\n",
    "- dle způsobu vykonání kódu: kompilované a interpretované\n",
    "- dle oblasti použití: univerzální a doménově specifické\n",
    "\n",
    "Vysokoúrovňové jazyky se dále dělí na mnoho dalších skupin dle způsobu zápisu kódu a vlastností daného jazyka.\n",
    "\n",
    "Nejpopulárnější programovací jazyky dle [indexu TIOBE](https://www.tiobe.com/tiobe-index/):\n",
    "\n",
    "![](images/01/Tiobe_2025.jpg)"
   ]
  },
  {
   "cell_type": "markdown",
   "metadata": {},
   "source": [
    "## Jazyk Python\n",
    "\n",
    "[Python](https://www.python.org/) je vysokoúrovňový, interpretovaný, univerzální programovací jazyk, který klade důraz na čistotu a čitelnost kódu.\n",
    "Od roku 2018 jeho popularita značně vzrostla a konzistentně se umisťuje mezi nejpopulárnějšími programovacími jazyky vůbec.\n",
    "\n",
    "Python je vyvíjen jako [open source](https://cs.wikipedia.org/wiki/Otev%C5%99en%C3%BD_software) projekt a je dostupný zdarma pro všechny běžné platformy (Linux, macOS, Windows).\n",
    "Také existuje velké množství knihoven, frameworků a jiných softwarových projektů využívajících jazyk Python, které jsou open-source.\n",
    "To velmi přispívá k popularitě Pythonu a jeho softwarového ekosystému.\n",
    "\n",
    "Python je __interpretovaný__ jazyk, proto je pro spuštění programu potřeba __interpret__, což je program, který čte zdrojový kód v jazyku Python a postupně jej provádí (interpretuje).\n",
    "Důsledky interpretačního zpracování jsou:\n",
    "\n",
    "- pro spuštění je nutný interpret (zpracování kódu počítačem není tak efektivní, jako v případě kompilovaných jazyků)\n",
    "- snadné provádění úprav kódu (upravený kód stačí znovu spustit)\n",
    "- dobrá přenositelnost kódu na jinou platformu (o kompatibilitu se stará interpret)\n",
    "- pro spuštění programu je nutné mít kompletní zdrojový kód (nelze vytvořit uzavřenou \"binární\" verzi programu bez zdrojového kódu)"
   ]
  },
  {
   "cell_type": "markdown",
   "metadata": {},
   "source": [
    "## Jazyky C a C++\n",
    "\n",
    "Jazyky [C](https://cs.wikipedia.org/wiki/C_(programovac%C3%AD_jazyk)) a [C++](https://cs.wikipedia.org/wiki/C%2B%2B) patří mezi historicky nejrozšířenější programovací jazyky.\n",
    "Stejně jako Python jsou vysokoúrovňové a univerzální, narozdíl od Pythonu jsou však __kompilované__.\n",
    "Pro spuštění programu je tedy potřeba __kompilátor__ (překladač), který ze zdrojového kódu vytvoří binární spustitelný soubor (ve Windows typicky s koncovkou `.exe`) obsahující strojový kód určený pro danou platformu.\n",
    "\n",
    "Jazyky C a C++ jsou sice považovány za vysokoúrovňové, ale oproti Pythonu jsou \"nízkoúrovňovější\".\n",
    "Používají se typicky v oblastech, které mají vysoké požadavky na výkon (efektivitu) zpracování kódu – např. operační systémy, ovladače pro hardware a nejrůznější nativní aplikace.\n",
    "Nejrozšířenější interpret pro jazyk Python je vytvořen pomocí jazyka C a jmenuje se _CPython_.\n",
    "\n",
    "Jazyku C++ se věnují předměty ve 2. ročníku: 18PRC1 a 18PRC2."
   ]
  },
  {
   "cell_type": "markdown",
   "metadata": {},
   "source": [
    "## Programovací jazyky na FJFI\n",
    "\n",
    "V dalších předmětech vyučovaných na FJFI katedrou softwarového inženýrství se dozvíte o dalších programovacích jazycích:\n",
    "\n",
    "- Python – 18ZPRO, 18PPY1, 18PPY2, 18PPY3\n",
    "- C++ – 18PRC1, 18PRC2\n",
    "- C# - 18CIS\n",
    "- Java – 18PJ\n",
    "- JavaScript – 18INTA\n",
    "- Matlab – 18PMTL\n",
    "- SQL – 18SQL\n",
    "\n",
    "Podrobné sylaby jednotlivých předmětů najdete v [bílé knize](https://bilakniha.cvut.cz/cs/katedra14118.html)."
   ]
  },
  {
   "cell_type": "markdown",
   "metadata": {},
   "source": [
    "# Prostředí jazyka Python"
   ]
  },
  {
   "cell_type": "markdown",
   "metadata": {},
   "source": [
    "Prostředí jazyka [Python](https://www.python.org/) se skládá z mnoha komponent:\n",
    "\n",
    "- samotný programovací jazyk\n",
    "- interpret jazyka a sada dalších nástrojů (interaktivní shell, jednoduché IDE, atd.)\n",
    "- standardní knihovna (sada modulů obsahující spoustu užitečných funkcí, tříd a dalších objektů)\n",
    "- systém pro správu a distribucí balíčků (uživatelské knihovny a programy)\n",
    "- [dokumentace](https://docs.python.org/3/)\n",
    "\n",
    "Jazyk Python lze použít mnoha způsoby:\n",
    "\n",
    "1. interaktivní práce v konzoli nebo tzv. _shellu_ (příkazový řádek fungující na principu REPL – _read-evaluate-print loop_)\n",
    "2. skriptování – tvorba velmi jednoduchých programů, které automatizují práci v operačním systému (např. kopírování nebo přejmenování souborů)\n",
    "3. tvorba plnohodnotných programů (aplikací)\n",
    "4. hybridní užití v systémech se zabudovaným interpretem jazyka Python (např. prostředí _Jupyter_)\n",
    "\n",
    "Všechny přístupy si postupně vyzkoušíme."
   ]
  },
  {
   "cell_type": "markdown",
   "metadata": {},
   "source": [
    "## Prostředí Jupyter\n",
    "\n",
    "Pro výuku budeme používat platformu JupyterHub, která je dostupná na adrese https://jupyter.fjfi.cvut.cz/.\n",
    "Pro přihlášení použijte své univerzitní uživatelské jméno a [heslo ČVUT](https://it.fjfi.cvut.cz/navody/uzivatelsky-ucet/ucet-cvut).\n",
    "Problémy s používáním JupyterHubu hlaste svému vyučujícímu, případně přímo správci (Jakub Klinkovský).\n",
    "\n",
    "Prostředí [Jupyter](http://jupyter.org/) se skládá z několika komponent:\n",
    "\n",
    "1. JupyterHub – webová služba (_front-end_) poskytující přístup k následujícím komponentám.\n",
    "2. JupyterLab – nové rozhraní poskytující prvky běžné v integrovaných vývojových prostředích (IDE).\n",
    "3. Jupyter Notebook – klasické rozhraní umožňující práci nad jedním samostatným dokumentem.\n",
    "\n",
    "V naší instalaci JupyterHub po přihlášení uživatele spustí proces Jupyter Server s rozhraním JupyterLab.\n",
    "Toto rozhraní je v URL identifikováno řetězcem `/lab/`, např. https://jupyter.fjfi.cvut.cz/user/novak123/lab/.\n",
    "Pro přepnutí do rozhraní Jupyter Notebook klikněte v menu na `View → Open in Jupyter Notebook` nebo na `Help → Launch Jupyter Notebook File Browser`, což vede na URL s řetězcem `/tree/`, např. https://jupyter.fjfi.cvut.cz/user/novak123/tree/.\n",
    "Tlačítko pro přepnutí zpátky najdete v menu `View → Open in JupyterLab`.\n",
    "\n",
    "Po spuštění rozhraní JupyterLab se buď obnoví předchozí pracovní plocha (_workspace_) nebo se otevře záložka se spouštěcími ikonami (_launcher_):\n",
    "\n",
    "<div>\n",
    "<img src=\"images/01/JupyterLab-launcher.png\" style=\"max-width: 42em\"/>\n",
    "</div>\n",
    "\n",
    "První řada ikonek představuje spouštěče pro základní prvky prostředí Jupyter, tzv. _notebooky_.\n",
    "Jupyter notebook je dokument skládající se ze seřazeného seznamu buněk (_cells_), které mají obsah určitého typu.\n",
    "Buňky mohou být buď textové (formátované pomocí jazyka [Markdown](https://en.wikipedia.org/wiki/Markdown) nebo [HTML](https://en.wikipedia.org/wiki/HTML)), nebo mohou obsahovat zdrojový kód v nějakém programovacím jazyku.\n",
    "Pro spuštění kódu v buňkách notebooku je potřeba tzv. _kernel_, což je proces schopný vykonat příkazy daného jazyka (v našem případě to bude interpret jazyka Python).\n",
    "Po spuštění nějaké buňky obsahující kód se zobrazí výstup – to může být např. text, hodnota proměnné, chyba, nebo obecně libovolná multimediální data, která prostředí Jupyter dokáže zobrazit.\n",
    "\n",
    "Jupyter notebook je na disku reprezentován jako soubor s koncovkou `.ipynb`.\n",
    "Notebooky ze serveru JupyterHub si můžete stáhnout a otevřít ve vhodném programu, např. pomocí lokálně nainstalovaných komponent JupyterLab nebo Jupyter Notebook, případně v IDE jako např. VSCode (k tomu se dostaneme později).\n",
    "\n",
    "Druhá řada ikonek na spouštěcí záložce poskytuje jiný způsob práce s určitým programovacím jazykem.\n",
    "Spuštění interaktivní konzole nám poskytne příkazový režim pro práci s interpretem, který funguje na principu REPL (_read-evaluate-print loop_).\n",
    "Stejné (ne-webové) rozhraní lze spustit přímo po instalaci Pythonu ve vašem systému.\n",
    "\n",
    "### Příklady\n",
    "\n",
    "Dále si ukážeme jednoduché příklady používající jazyk Python, nejprve v interaktivní konzoli:\n",
    "\n",
    "- použití funkce `print` pro vypsání textu\n",
    "- zápis jednoduchých matematických výrazů\n",
    "- používání proměnných\n",
    "- použití funkce `input` pro čtení uživatelského vstupu ve formě textu\n",
    "\n",
    "Poté vše zopakujeme v _notebookovém_ dokumentu otevřeném v rozhraní JupyterLab.\n",
    "Kromě základů jazyka Python se naučíme:\n",
    "\n",
    "- jak přidávat, duplikovat, odebírat a přesouvat buňky\n",
    "- jak měnit typ dané buňky\n",
    "- jak spustit kód v dané buňce\n",
    "- jak zobrazit nápovědu (dokumentaci) pro nějakou funkci"
   ]
  }
 ],
 "metadata": {
  "language_info": {
   "name": "python"
  },
  "orig_nbformat": 4
 },
 "nbformat": 4,
 "nbformat_minor": 2
}
