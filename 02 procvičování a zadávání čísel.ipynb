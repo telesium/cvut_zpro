{
 "cells": [
  {
   "cell_type": "markdown",
   "metadata": {},
   "source": [
    "# V minulém díle jste viděli..."
   ]
  },
  {
   "cell_type": "markdown",
   "metadata": {},
   "source": [
    "- __základní pojmy__ – počítač, program, algoritmus\n",
    "- základní vlastnosti programovacích jazyků\n",
    "- představení prostředí Python a Jupyter\n",
    "\n",
    "První programátorské prvky, které jsme si ukázali:"
   ]
  },
  {
   "cell_type": "markdown",
   "metadata": {},
   "source": [
    "- Použití funkce `print` pro výpis textu, případně více hodnot:"
   ]
  },
  {
   "cell_type": "code",
   "execution_count": 1,
   "metadata": {},
   "outputs": [
    {
     "name": "stdout",
     "output_type": "stream",
     "text": [
      "Hello, world!\n",
      "Výsledek je 42\n"
     ]
    }
   ],
   "source": [
    "print(\"Hello, world!\")\n",
    "print(\"Výsledek je\", 42)"
   ]
  },
  {
   "cell_type": "markdown",
   "metadata": {},
   "source": [
    "- Zápis jednoduchých matematických výrazů:"
   ]
  },
  {
   "cell_type": "code",
   "execution_count": 2,
   "metadata": {},
   "outputs": [
    {
     "name": "stdout",
     "output_type": "stream",
     "text": [
      "6.2\n"
     ]
    }
   ],
   "source": [
    "print(1 + 2 * 3 - 4 / 5)"
   ]
  },
  {
   "cell_type": "markdown",
   "metadata": {},
   "source": [
    "- Používání proměnných:"
   ]
  },
  {
   "cell_type": "code",
   "execution_count": 4,
   "metadata": {},
   "outputs": [],
   "source": [
    "a = 1\n",
    "b = 2\n",
    "c = 2 * (a + b)"
   ]
  },
  {
   "cell_type": "markdown",
   "metadata": {},
   "source": [
    "- Použití funkce `input` pro přečtení uživatelského vstupu ve formě textu:"
   ]
  },
  {
   "cell_type": "code",
   "execution_count": null,
   "metadata": {},
   "outputs": [
    {
     "name": "stdout",
     "output_type": "stream",
     "text": [
      "Zadal jsi text\n"
     ]
    }
   ],
   "source": [
    "text = input(\"Zadej text:\")\n",
    "print(\"Zadal jsi\", text)"
   ]
  },
  {
   "cell_type": "markdown",
   "metadata": {},
   "source": [
    "# Příklady na procvičení"
   ]
  },
  {
   "cell_type": "markdown",
   "metadata": {},
   "source": [
    "1. Napište program, který spočítá a vypíše počet sekund v roce."
   ]
  },
  {
   "cell_type": "code",
   "execution_count": null,
   "metadata": {},
   "outputs": [],
   "source": []
  },
  {
   "cell_type": "markdown",
   "metadata": {},
   "source": [
    "2. Napište program, který spočítá cenu nafty potřebné na cestu osobním autem z Prahy do Ostravy a zpět. Vzdálenost po dálnici D1 je $380~km$, auto má průměrnou spotřebu $5.1~l/100~km$ a aktuální cena nafty je $35.90~Kč/l$. Pro jaký minimální počet cestujících je cesta autem výhodnější než cesta vlakem?"
   ]
  },
  {
   "cell_type": "code",
   "execution_count": null,
   "metadata": {},
   "outputs": [],
   "source": []
  },
  {
   "cell_type": "markdown",
   "metadata": {},
   "source": [
    "# Efektivní používání klávesnice"
   ]
  },
  {
   "cell_type": "markdown",
   "metadata": {},
   "source": [
    "Ačkoliv programátoři tráví více času čtením existujícího kódu než psaním nového kódu, je potřeba naučit se používat klávesnici efektivním způsobem.\n",
    "Není totiž nic trapnějšího, než když přijdete za kolegou diskutovat svůj kód a při první úpravě nemůžete na klávesnici najít středník, složenou závorku nebo libovolný jiný znak...\n",
    "Proto zde uvádíme přehled užitečných klávesových zkratek a dalších triků.\n",
    "\n",
    "Také __velmi doporučujeme__ procvičit si [psaní všemi deseti](https://www.psani-deseti.cz/), bude se vám to hodit nejen při programování.\n",
    "\n",
    "Používání klávesnice závisí na [rozložení kláves](https://cs.wikipedia.org/wiki/Rozlo%C5%BEen%C3%AD_kl%C3%A1ves).\n",
    "V ČR jsou populární rozložení __CZ QWERTZ__, __US__ a __Česká programátorská klávesnice__.\n",
    "Každé rozložení kláves navíc umožňuje psát speciální znaky pomocí různých kombinací kláves – tyto kombinace se ale liší v závislosti na operačním systému a samozřejmě na zvoleném rozložení kláves.\n",
    "\n",
    "V případě používání české klávesnice (rozložení __CZ__) doporučujeme pro usnadnění programování a zrychlení psaní používat následující klávesové zkratky využívající klávesu [AltGr](https://en.wikipedia.org/wiki/AltGr_key):\n",
    "\n",
    "- `AltGr`+`x` → `#`\n",
    "- `AltGr`+`v` → `@`\n",
    "- `AltGr`+`b` → `{`\n",
    "- `AltGr`+`n` → `}`\n",
    "- `AltGr`+`,` → `<`\n",
    "- `AltGr`+`.` → `>`\n",
    "- `AltGr`+`f` → `[`\n",
    "- `AltGr`+`g` → `]`\n",
    "\n",
    "V systému Linux navíc fungují následující zkratky využívající horní řadu znaků s diakritikou (speciální znaky jsou na těchto klávesách spolu s číslicemi nakresleny pro snazší zapamatování):\n",
    "\n",
    "- `AltGr`+`ě` → `@`\n",
    "- `AltGr`+`š` → `#`\n",
    "- `AltGr`+`č` → `$`\n",
    "- `AltGr`+`ř` → `%`\n",
    "- `AltGr`+`ž` → `^`\n",
    "- `AltGr`+`ý` → `&`\n",
    "- `AltGr`+`á` → `*`\n",
    "- `AltGr`+`í` → `{`\n",
    "- `AltGr`+`é` → `}`\n",
    "\n",
    "Pod ostatními klávesami se skrývají další, i když méně užitečné speciální znaky.\n",
    "\n",
    "<div style=\"border-left: 5px solid green; padding-left: 1em\">\n",
    "Znáte další užitečné klávesové zkratky, např. pro macOS? Dejte nám vědět! 😉🙏\n",
    "</div>"
   ]
  },
  {
   "cell_type": "markdown",
   "metadata": {},
   "source": [
    "# Data v paměti počítače"
   ]
  },
  {
   "cell_type": "markdown",
   "metadata": {},
   "source": [
    "Každý program pracuje s daty: čte vstupní data, produkuje výstupní data a v průběhu zpracování používá paměť počítače pro uchování přechodných dat.\n",
    "Ačkoliv uživateli jsou data většinou zobrazena v takovém formátu, se kterým dokáže člověk snadno pracovat, __počítač pracuje pouze s daty zakódovanými ve dvojkové (binární) soustavě__.\n",
    "Dále je nutné si uvědomit, že __záleží na tom, které kódování je pro danou hodnotu použito__, protože různé hodnoty s použitím různých kódování můžou mít stejnou binární reprezentaci (viz příklady níže).\n",
    "\n",
    "Bez ohledu na způsob kódování je binární kód charakterizován tím, že v něm vystupují pouze číslice 0 a 1.\n",
    "Nejmenší jednotka informace je __bit__ (zkratka z anglického _binary digit_) a skupina 8 bitů představuje 1 __bajt__ (anglicky _byte_).\n",
    "\n",
    "![](http://pics.blameitonthevoices.com/032011/hobbit_vs_hobbyte.jpg)\n",
    "\n",
    "Paměť počítače je fyzicky uzpůsobena tak, že umožňuje adresovat jednotlivé bajty a procesor počítače používá instrukce, které zpracovávají celé skupiny bajtů.\n",
    "V dnešní době jsou nejčastější procesory, které využívají 64-bitové instrukce.\n",
    "\n",
    "## Kódování celých čísel\n",
    "\n",
    "Přirozená čísla zapisujeme ve dvojkové soustavě, která funguje podobně jako desítková soustava – je to poziční číselná soustava o základu 2 s číslicemi 0 a 1.\n",
    "Pro převod ze dvojkové soustavy do desítkové se používá [substituční metoda](https://cs.wikipedia.org/wiki/Substitu%C4%8Dn%C3%AD_metoda_(%C4%8D%C3%ADseln%C3%A9_soustavy))\n",
    "a převod z desítkové soustavy do dvojkové se používá [metoda dělení základem](https://cs.wikipedia.org/wiki/Metoda_d%C4%9Blen%C3%AD_z%C3%A1kladem).\n",
    "Pro kódování záporných čísel se nejčastěji používá [dvojkový doplněk](https://cs.wikipedia.org/wiki/Dvojkov%C3%BD_dopln%C4%9Bk).\n",
    "\n",
    "## Kódování znaků\n",
    "\n",
    "Základní metoda pro binární reprezentaci textu jakožto posloupnosti znaků využívá tzv. [ASCII tabulku](https://cs.wikipedia.org/wiki/ASCII), která každému znaku vystupujícímu v tabulce přiřazuje unikátní binární kód.\n",
    "Je to původně 7-bitový kód obsahující 128 platných znaků, ale pro praktické účely se každý zakódovaný znak doplňuje jedním nevyužitým bitem, aby v posloupnosti každému znaku odpovídal jeden bajt.\n",
    "\n",
    "V současné době je nejčastější kódování [UTF-8](https://cs.wikipedia.org/wiki/UTF-8), které je zpětně kompatibilní (každý ASCII kód je platný UTF-8 kód) a umožňuje kódovat $2^{31}$ znaků, čili pokrývá celou znakovou sadu Unicode.\n",
    "\n",
    "## Kódování \"reálných\" čísel\n",
    "\n",
    "Výše uvedené způsoby kódování celých čísel a znaků jsou _bezeztrátové_, čili opakovaným převodem hodnoty do binární soustavy a zpět dostaneme přesně původní hodnotu.\n",
    "Je ale problém najít prakticky užitečné kódování reálných čísel do binární soustavy, které by bylo bezeztrátové.\n",
    "Problém spočívá v tom, že např. číslo 0.3 má konečný rozvoj v desítkové soustavě, ale nekonečný rozvoj ve dvojkové soustavě.\n",
    "Při převodu se tedy musíme uchýlit k _aproximaci_ – musíme provést zaokrouhlení tak, aby výsledná hodnota obsahovala daný počet bitů.\n",
    "\n",
    "K dalším problémům dochází při vyhodnocování aritmetických operací.\n",
    "Pokud např. při součtu dvou \"reálných\" čísel ve dvojkové soustavě obsahuje správný výsledek větší počet bitů než je povoleno pro dané kódování, musíme opět provést zaokrouhlení a výsledek je špatně.\n",
    "Lze tedy říci, že většina výpočtů s \"reálnými\" čísly v počítači probíhá nepřesně.\n",
    "Problémům s přesností počítačové aritmetiky se nebudeme dále věnovat, podrobnosti můžete najít např. na stránce [Floating Point Arithmetic: Issues and Limitations](https://docs.python.org/3/tutorial/floatingpoint.html).\n",
    "\n",
    "## Příklady\n",
    "\n",
    "- desítková reprezentace binárního čísla 11: `3`\n",
    "- binární reprezentace čísla 11: `1011`\n",
    "- binární reprezentace textového řetězce \"11\" podle ASCII kódování: `0011000100110001`\n",
    "- desítková reprezentace binárního čísla 0011000100110001: `12593`\n",
    "- 64-bitová binární reprezentace hodnoty `1.0` podle standardu [IEEE 754](https://cs.wikipedia.org/wiki/IEEE_754): `11111111110000000000000000000000000000000000000000000000000000`"
   ]
  },
  {
   "cell_type": "markdown",
   "metadata": {},
   "source": [
    "# Datové typy a zadávání hodnot v Pythonu"
   ]
  },
  {
   "cell_type": "markdown",
   "metadata": {},
   "source": [
    "Zatím jsme viděli tyto typy objektů v Pythonu:\n",
    "\n",
    "- text (např. `\"Hello, world!\"`)\n",
    "- číslo\n",
    "    - celé číslo (např. `0`, `1`, atd.)\n",
    "    - \"reálné\" číslo (např. `1.5`)\n",
    "\n",
    "Pokud použijeme funkci `input`, výsledek je _vždy textový objekt_, i když uživatel zadá číslo.\n",
    "Pokud chceme získat _číselný objekt_, musíme použít příslušnou funkci, která získá číselnou hodnotu z textu:\n",
    "\n",
    "- funkce `int` vrátí celé číslo:\n",
    "    ```python\n",
    "    a = int(input(\"Zadej číslo:\"))\n",
    "    print(a * 2)\n",
    "    ```\n",
    "- funkce `float` vrátí \"reálné\" číslo:\n",
    "    ```python\n",
    "    a = float(input(\"Zadej číslo:\"))\n",
    "    print(a * 2)\n",
    "    ```\n",
    "\n",
    "__K zamyšlení a vyzkoušení:__ Co se stane, když uživatel nezadá číslo, ale něco jiného? Co se stane, když zadá několik čísel oddělených mezerou nebo čárkou?"
   ]
  },
  {
   "cell_type": "code",
   "execution_count": null,
   "metadata": {},
   "outputs": [],
   "source": []
  },
  {
   "cell_type": "markdown",
   "metadata": {},
   "source": [
    "Nyní si procvičíme programování na několika příkladech.\n",
    "K datovým hodnotám a zadávání čísel se vrátíme ještě podrobněji na příštím cvičení..."
   ]
  },
  {
   "cell_type": "markdown",
   "metadata": {},
   "source": [
    "# Příklady"
   ]
  },
  {
   "cell_type": "markdown",
   "metadata": {},
   "source": [
    "1. Napište program, který se zeptá uživatele na kladné číslo a spočítá obvod a obsah čtverce, který má délku strany rovnou zadané hodnotě. "
   ]
  },
  {
   "cell_type": "code",
   "execution_count": null,
   "metadata": {},
   "outputs": [],
   "source": []
  },
  {
   "cell_type": "markdown",
   "metadata": {},
   "source": [
    "2. Napište program, který se zeptá uživatele na kladné číslo a spočítá obvod a obsah pravidelného pětiúhelníku, který má délku strany rovnou zadané hodnotě.\n",
    "\n",
    "Nápověda: odmocnina se dá spočítat pomocí obecné mocniny."
   ]
  },
  {
   "cell_type": "code",
   "execution_count": null,
   "metadata": {},
   "outputs": [],
   "source": []
  },
  {
   "cell_type": "markdown",
   "metadata": {},
   "source": [
    "3a. Napište program, který se zeptá uživatele na jeho výšku a hmotnost. Následně spočítá a vypíše příslušnou hodnotu [BMI indexu](https://cs.wikipedia.org/wiki/Index_t%C4%9Blesn%C3%A9_hmotnosti)."
   ]
  },
  {
   "cell_type": "code",
   "execution_count": null,
   "metadata": {},
   "outputs": [],
   "source": []
  },
  {
   "cell_type": "markdown",
   "metadata": {},
   "source": [
    "3b. Rozšiřte předchozí program tak, aby vypsal, jaké je rozmezí optimální (normální) hmotnosti uživatele při jeho výšce."
   ]
  },
  {
   "cell_type": "code",
   "execution_count": null,
   "metadata": {},
   "outputs": [],
   "source": []
  }
 ],
 "metadata": {
  "kernelspec": {
   "display_name": "Python 3",
   "language": "python",
   "name": "python3"
  },
  "language_info": {
   "codemirror_mode": {
    "name": "ipython",
    "version": 3
   },
   "file_extension": ".py",
   "mimetype": "text/x-python",
   "name": "python",
   "nbconvert_exporter": "python",
   "pygments_lexer": "ipython3",
   "version": "3.11.2"
  },
  "orig_nbformat": 4
 },
 "nbformat": 4,
 "nbformat_minor": 2
}
