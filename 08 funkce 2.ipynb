 2.ipynb
20.37 KiB
{
 "cells": [
  {
   "cell_type": "markdown",
   "metadata": {},
   "source": [
    "# V minulém díle jste viděli..."
   ]
  },
  {
   "cell_type": "markdown",
   "metadata": {},
   "source": [
    "Příkaz `def` slouží k definici funkce s daným názvem a seznamem parametrů v kulatých závorkách:"
   ]
  },
  {
   "cell_type": "code",
   "execution_count": null,
   "metadata": {},
   "outputs": [],
   "source": [
    "def print_demo2(param1, param2):\n",
    "    print(\"Hodnota prvního parametru je\", param1)\n",
    "    print(\"Hodnota druhého parametru je\", param2)"
   ]
  },
  {
   "cell_type": "markdown",
   "metadata": {},
   "source": [
    "Pokud není řečeno jinak, výsledkem funkce je prázdná hodnota `None`.\n",
    "Jiné výsledné hodnoty můžeme vrátit pomocí příkazu `return`, který okamžitě ukončí vykonávání funkce a vrátí výsledek:"
   ]
  },
  {
   "cell_type": "code",
   "execution_count": null,
   "metadata": {},
   "outputs": [
    {
     "name": "stdout",
     "output_type": "stream",
     "text": [
      "Definiční obor této funkce nezahrnuje záporná čísla.\n",
      "None\n"
     ]
    }
   ],
   "source": [
    "def polynom(x):\n",
    "    if x < 0:\n",
    "        print(\"Definiční obor této funkce nezahrnuje záporná čísla.\")\n",
    "        return\n",
    "    return x ** 2 - 3 * x + 1\n",
    "\n",
    "vysledek = polynom(-1)\n",
    "print(vysledek)"
   ]
  },
  {
   "cell_type": "markdown",
   "metadata": {},
   "source": [
    "Proměnné definované uvnitř funkce jsou **lokální** a jejich rozsah je omezen na tělo příslušné funkce, po skončení funkce přestanou její lokální proměnné existovat.\n",
    "Platí to i pro **proměnné se stejným názvem, jako objekty definované mimo funkci!**"
   ]
  },
  {
   "cell_type": "markdown",
   "metadata": {},
   "source": [
    "# Další vlastnosti funkcí"
   ]
  },
  {
   "cell_type": "markdown",
   "metadata": {},
   "source": [
    "## Parametry s výchozí hodnotou\n",
    "\n",
    "Jazyk Python umožňuje při definici funkce zadat výchozí (_defaultní_) hodnoty pro parametry, které se použijí v případě, že programátor při volání funkce nepředá jiné hodnoty.\n",
    "To se hodí, pokud se domníváte, že funkce bude často používána s jednou konkrétní hodnotou pro určitý parametr, ale pro speciální případy chcete umožnit jeho změnu.\n",
    "Základní demonstrační příklad takové funkce je:"
   ]
  },
  {
   "cell_type": "code",
   "execution_count": 14,
   "metadata": {},
   "outputs": [],
   "source": [
    "def demo_funkce_s_mnoha_parametry(param1, param2, param3=10, param4=None):\n",
    "    print(\"param1 je\", param1)\n",
    "    print(\"param2 je\", param2)\n",
    "    print(\"param3 je\", param3)\n",
    "    print(\"param4 je\", param4)"
   ]
  },
  {
   "cell_type": "markdown",
   "metadata": {},
   "source": [
    "Všimněte si, že parametry s výchozí hodnotou musí být v seznamu parametrů za všemi parametry bez výchozí hodnoty.\n",
    "Nelze tedy např. definovat výchozí hodnotu pro `param1`, ale ne pro `param2`.\n",
    "\n",
    "Funkci `demo_funkce_s_mnoha_parametry` teď můžeme použít se dvěma, třemi nebo čtyřmi argumenty:"
   ]
  },
  {
   "cell_type": "code",
   "execution_count": 15,
   "metadata": {},
   "outputs": [
    {
     "name": "stdout",
     "output_type": "stream",
     "text": [
      "param1 je 1\n",
      "param2 je 2\n",
      "param3 je 10\n",
      "param4 je None\n"
     ]
    }
   ],
   "source": [
    "demo_funkce_s_mnoha_parametry(1, 2)"
   ]
  },
  {
   "cell_type": "code",
   "execution_count": 16,
   "metadata": {},
   "outputs": [
    {
     "name": "stdout",
     "output_type": "stream",
     "text": [
      "param1 je 1\n",
      "param2 je 2\n",
      "param3 je 3\n",
      "param4 je None\n"
     ]
    }
   ],
   "source": [
    "demo_funkce_s_mnoha_parametry(1, 2, 3)"
   ]
  },
  {
   "cell_type": "code",
   "execution_count": 17,
   "metadata": {},
   "outputs": [
    {
     "name": "stdout",
     "output_type": "stream",
     "text": [
      "param1 je 1\n",
      "param2 je 2\n",
      "param3 je 3\n",
      "param4 je 4\n"
     ]
    }
   ],
   "source": [
    "demo_funkce_s_mnoha_parametry(1, 2, 3, 4)"
   ]
  },
  {
   "cell_type": "markdown",
   "metadata": {},
   "source": [
    "## Poziční vs. pojmenované argumenty\n",
    "\n",
    "V předchozích příkladech jsme zatím vždy používali tzv. _poziční_ způsob předávání argumentů, kde se jednotlivé hodnoty přiřazují definovaným parametrům dle jejich pořadí v kulatých závorkách.\n",
    "Tento způsob může být značně nepřehledný, pokud má funkce velké množství parametrů.\n",
    "Proto jazyk Python umožňuje také předávání tzv. _pojmenovaných argumentů_ (anglicky _keyword arguments_), kde na pořadí nezáleží a hodnoty se parametrům přiřadí dle jména (jméno argumentu musí odpovídat jménu parametru).\n",
    "\n",
    "V předchozím příkladu tedy místo `demo_funkce_s_mnoha_parametry(1, 2, 3, 4)` můžeme ekvivalentně použít např. libovolné z těchto volání:"
   ]
  },
  {
   "cell_type": "code",
   "execution_count": 18,
   "metadata": {},
   "outputs": [
    {
     "name": "stdout",
     "output_type": "stream",
     "text": [
      "param1 je 1\n",
      "param2 je 2\n",
      "param3 je 3\n",
      "param4 je 4\n"
     ]
    }
   ],
   "source": [
    "demo_funkce_s_mnoha_parametry(param1=1, param2=2, param3=3, param4=4)"
   ]
  },
  {
   "cell_type": "code",
   "execution_count": 19,
   "metadata": {},
   "outputs": [
    {
     "name": "stdout",
     "output_type": "stream",
     "text": [
      "param1 je 1\n",
      "param2 je 2\n",
      "param3 je 3\n",
      "param4 je 4\n"
     ]
    }
   ],
   "source": [
    "demo_funkce_s_mnoha_parametry(param2=2, param1=1, param4=4, param3=3)"
   ]
  },
  {
   "cell_type": "code",
   "execution_count": 20,
   "metadata": {},
   "outputs": [
    {
     "name": "stdout",
     "output_type": "stream",
     "text": [
      "param1 je 1\n",
      "param2 je 2\n",
      "param3 je 3\n",
      "param4 je 4\n"
     ]
    }
   ],
   "source": [
    "demo_funkce_s_mnoha_parametry(param4=4, param3=3, param2=2, param1=1)"
   ]
  },
  {
   "cell_type": "markdown",
   "metadata": {},
   "source": [
    "Oba způsoby předávání pozičních a pojmenovaných argumentů můžeme i kombinovat, jenom musíme __dbát na to, aby všechny pojmenované argumenty byly zadány až za všemi pozičními argumenty__.\n",
    "To umožňuje např. vynechat argumenty, které mají výchozí hodnotu, které bychom při pozičním způsobu byli nuceni zadat:"
   ]
  },
  {
   "cell_type": "code",
   "execution_count": 21,
   "metadata": {},
   "outputs": [
    {
     "name": "stdout",
     "output_type": "stream",
     "text": [
      "param1 je 1\n",
      "param2 je 2\n",
      "param3 je 10\n",
      "param4 je 4\n"
     ]
    }
   ],
   "source": [
    "demo_funkce_s_mnoha_parametry(1, 2, param4=4)"
   ]
  },
  {
   "cell_type": "markdown",
   "metadata": {},
   "source": [
    "<div style=\"border-left: 5px solid green; padding-left: 1em\">\n",
    "<p><strong>Tip:</strong>\n",
    "Předávání pojmenovaných argumentů je nezávislé na parametrech s výchozí hodnotou – dá se použít pro parametry s výchozí hodnotou i bez výchozí hodnoty.\n",
    "Nejčastěji se ale používá právě pro parametry s výchozí hodnotou.</p>\n",
    "</div>"
   ]
  },
  {
   "cell_type": "markdown",
   "metadata": {},
   "source": [
    "<div style=\"border-left: 5px solid green; padding-left: 1em\">\n",
    "<p><strong>Tip:</strong>\n",
    "Jazyk Python umožňuje při definici funkce vynutit, aby určité parametry bylo možné zadat pouze pozičním způsobem a jiné jen pojmenovaným způsobem.\n",
    "Možná se s tímto případem brzy setkáme při používání funkcí ze standardní knihovny.</p>\n",
    "</div>"
   ]
  },
  {
   "cell_type": "markdown",
   "metadata": {},
   "source": [
    "## Funkce jako proměnné\n",
    "\n",
    "Definice funkce pomocí příkazu `def` je speciální forma přiřazení, při kterém se provede několik věcí:\n",
    "\n",
    "1. Vytvoří se objekt, který reprezentuje danou funkci a obsahuje kód definovaný v těle funkce.\n",
    "2. Vytvoří se proměnná s názvem dané funkce a do ní se uloží odkaz na vytvořený objekt.\n",
    "\n",
    "V principu tedy s názvy funkcí pracujeme stejně jako s názvy proměnných.\n",
    "To nám umožňuje např. \"přejmenovávat\" funkce po jejich definici nebo používat názvy funkcí pro pojmenování hodnot.\n",
    "Pokud se jedná o lokální proměnné a tyto funkce, jejichž názvy jsme použili, na lokální úrovni nebudeme potřebovat, tak tato shoda názvů ničemu nevadí:"
   ]
  },
  {
   "cell_type": "code",
   "execution_count": 22,
   "metadata": {},
   "outputs": [
    {
     "name": "stdout",
     "output_type": "stream",
     "text": [
      "v = 4\n",
      "1\n",
      "2\n",
      "3\n",
      "4\n",
      "5\n"
     ]
    }
   ],
   "source": [
    "def demo1():\n",
    "    f = max\n",
    "    g = min\n",
    "    v = f(f(2, g(1, 3)), 4)\n",
    "    print(\"v =\", v)\n",
    "\n",
    "def demo2():\n",
    "    min = 1\n",
    "    max = 5\n",
    "    for i in range(min, max + 1):\n",
    "        print(i)\n",
    "\n",
    "demo1()\n",
    "demo2()"
   ]
  },
  {
   "cell_type": "markdown",
   "metadata": {},
   "source": [
    "Definice funkce je navíc obyčejný složený příkaz, který můžeme použít všude tam, kde se smí použít příkaz.\n",
    "Funkce tedy můžeme definovat i uvnitř jiné funkce, můžeme funkce předávat jako argument nějaké funkci a funkce může představovat návratovou hodnotu jiné funkce.\n",
    "Tyto vlastnosti umožňují použít Python pro práci s [funkcemi vyšších řádů](https://en.wikipedia.org/wiki/Higher-order_function) a pro [funkcionální programování](https://cs.wikipedia.org/wiki/Funkcion%C3%A1ln%C3%AD_programov%C3%A1n%C3%AD).\n",
    "To je ale nad rámec předmětu ZPRO a podrobnostmi vás teď nebudeme zatěžovat."
   ]
  },
  {
   "cell_type": "markdown",
   "metadata": {},
   "source": [
    "## Docstring a nápověda\n",
    "\n",
    "Poslední věc, kterou si dnes ukážeme, nesouvisí s vykonáváním kódu, ale velmi se hodí pro podrobný popis toho, jak určitá funkce funguje a jak by se měla používat.\n",
    "Při definici funkce můžeme přidat tzv. _docstring_, neboli _dokumentační řetězec_:"
   ]
  },
  {
   "cell_type": "code",
   "execution_count": 23,
   "metadata": {},
   "outputs": [],
   "source": [
    "def demo():\n",
    "    \"\"\" Toto je docstring. Slouží jako místo k umístění dokumentace pro danou funkci.\n",
    "\n",
    "        Docstring typicky obsahuje:\n",
    "        - popis všech parametrů a jejich vliv na chování funkce\n",
    "        - popis návratové hodnoty\n",
    "        - popis případných chyb, které mohou nastat při vykonávání funkce\n",
    "    \"\"\"\n",
    "    return"
   ]
  },
  {
   "cell_type": "markdown",
   "metadata": {},
   "source": [
    "Docstring je formálně libovolný textový řetězec, který je vložen v těle funkce jako první příkaz (bez přiřazení proměnné!) se správným odsazením.\n",
    "V předchozím příkladu jsme místo párových dvojitých uvozovek (`\"...\"`) použili párovou trojici dvojitých uvozovek (`\"\"\"...\"\"\"`), která umožňuje zadat v kódu víceřádkový string.\n",
    "\n",
    "Jak jsme viděli v předchozí sekci, jazyk Python umožňuje dynamickým způsobem pracovat s objekty a jejich názvy.\n",
    "Existuje jednoduchý způsob, jak se jednoduchým způsobem dostat k docstringu nějakého objektu, se kterým si při programování nevíme rady.\n",
    "Např. docstring výše definované funkce `demo` můžeme zobrazit pomocí funkce `help` nebo přímo v prostředí Jupyter (v menu po kliknutí pravým tlačítkem na kód buňky vybereme _Show Contextual Help_):"
   ]
  },
  {
   "cell_type": "code",
   "execution_count": 24,
   "metadata": {},
   "outputs": [
    {
     "name": "stdout",
     "output_type": "stream",
     "text": [
      "Help on function demo in module __main__:\n",
      "\n",
      "demo()\n",
      "    Toto je docstring. Slouží jako místo k umístění dokumentace pro danou funkci.\n",
      "    \n",
      "    Docstring typicky obsahuje:\n",
      "    - popis všech parametrů a jejich vliv na chování funkce\n",
      "    - popis návratové hodnoty\n",
      "    - popis případných chyb, které mohou nastat při vykonávání funkce\n",
      "\n"
     ]
    }
   ],
   "source": [
    "help(demo)"
   ]
  },
  {
   "cell_type": "markdown",
   "metadata": {},
   "source": [
    "Objekty poskytované prostředím jazyka Python, případně jinými balíčky, mají také svou dokumentaci vytvořenou pomocí docstringů.\n",
    "Např. dokumentace pro funkci `print` vypadá takto:"
   ]
  },
  {
   "cell_type": "code",
   "execution_count": 25,
   "metadata": {},
   "outputs": [
    {
     "name": "stdout",
     "output_type": "stream",
     "text": [
      "Help on built-in function print in module builtins:\n",
      "\n",
      "print(*args, sep=' ', end='\\n', file=None, flush=False)\n",
      "    Prints the values to a stream, or to sys.stdout by default.\n",
      "    \n",
      "    sep\n",
      "      string inserted between values, default a space.\n",
      "    end\n",
      "      string appended after the last value, default a newline.\n",
      "    file\n",
      "      a file-like object (stream); defaults to the current sys.stdout.\n",
      "    flush\n",
      "      whether to forcibly flush the stream.\n",
      "\n"
     ]
    }
   ],
   "source": [
    "help(print)"
   ]
  },
  {
   "cell_type": "markdown",
   "metadata": {},
   "source": [
    "Všimněte si, jakým způsobem jsou popsané jednotlivé parametry a chování funkce.\n",
    "Pokud budete psát vlastní dokumentaci, je dobré se inspirovat stylem použitým ve standardní knihovně.\n",
    "Pro úplnost dodejme, že dokumentace standardní knihovny jazyka Python je k dispozici online na stránce https://docs.python.org/.\n",
    "Až budeme vědět více o jejích modulech, tak si ukážeme, kde potřebné informace najít."
   ]
  },
  {
   "cell_type": "markdown",
   "metadata": {},
   "source": [
    "# Příklady"
   ]
  },
  {
   "cell_type": "markdown",
   "metadata": {},
   "source": [
    "Pro každou funkci v následujících příkladech napište vhodný _docstring_."
   ]
  },
  {
   "cell_type": "markdown",
   "metadata": {},
   "source": [
    "## Ano/ne"
   ]
  },
  {
   "cell_type": "markdown",
   "metadata": {},
   "source": [
    "1. Napište funkci `ano_ne(otázka)`, která uživateli položí zadanou otázku a zeptá se ho na odpověď \"ano\" nebo \"ne\". Pokud je odpověď \"ano\", funkce vrátí `True`, pokud je odpověď \"ne\", funkce vrátí `False`. Pokud je odpověď něco jiného, program vypíše chybu a zeptá se znovu (uvnitř cyklu)."
   ]
  },
  {
   "cell_type": "code",
   "execution_count": null,
   "metadata": {},
   "outputs": [],
   "source": []
  },
  {
   "cell_type": "markdown",
   "metadata": {},
   "source": [
    "2. Upravte předchozí funkci do tvaru `ano_ne(otázka, počet_pokusů)`, kde číslo `počet_pokusů` omezí maximální počet opakování cyklu."
   ]
  },
  {
   "cell_type": "code",
   "execution_count": null,
   "metadata": {},
   "outputs": [],
   "source": []
  },
  {
   "cell_type": "markdown",
   "metadata": {},
   "source": [
    "3. Upravte předchozí funkci tak, aby parametr `počet_pokusů` byl volitelný a pokud při použití funkce není zadaný, tak opakování může probíhat nekonečně dlouho."
   ]
  },
  {
   "cell_type": "code",
   "execution_count": null,
   "metadata": {},
   "outputs": [],
   "source": []
  },
  {
   "cell_type": "markdown",
   "metadata": {},
   "source": [
    "## Dělitelé"
   ]
  },
  {
   "cell_type": "markdown",
   "metadata": {},
   "source": [
    "1.  Napište funkci `prvociselny_rozklad(n)`, která vypíše prvočíselný rozklad přirozeného čísla `n`."
   ]
  },
  {
   "cell_type": "code",
   "execution_count": null,
   "metadata": {},
   "outputs": [],
   "source": []
  },
  {
   "cell_type": "markdown",
   "metadata": {},
   "source": [
    "2.  Napište funkci `je_prvocislo(n)`, která vrátí `True`, pokud přirozené číslo `n` je prvočíslo. Jinak vrátí `False`."
   ]
  },
  {
   "cell_type": "code",
   "execution_count": null,
   "metadata": {},
   "outputs": [],
   "source": []
  },
  {
   "cell_type": "markdown",
   "metadata": {},
   "source": [
    "3.  Napište funkci `vypis_prvocisla(n)`, která vypíše všechna prvočísla menší než přirozené číslo `n`."
   ]
  },
  {
   "cell_type": "code",
   "execution_count": null,
   "metadata": {},
   "outputs": [],
   "source": []
  },
  {
   "cell_type": "markdown",
   "metadata": {},
   "source": [
    "4.  Napište funkci `kte_prvocislo(k)`, která spočítá a vrátí `k`-té prvočíslo."
   ]
  },
  {
   "cell_type": "code",
   "execution_count": null,
   "metadata": {},
   "outputs": [],
   "source": []
  },
  {
   "cell_type": "markdown",
   "metadata": {},
   "source": [
    "5.  Napište funkci `nsn(a, b)`, která spočítá a vrátí nejmenší společný násobek přirozených čísel `a` a `b`."
   ]
  },
  {
   "cell_type": "code",
   "execution_count": null,
   "metadata": {},
   "outputs": [],
   "source": []
  },
  {
   "cell_type": "markdown",
   "metadata": {},
   "source": [
    "## Odhady, aproximace"
   ]
  },
  {
   "cell_type": "markdown",
   "metadata": {},
   "source": [
    "1.  Napište funkci `eulerovo_cislo(n)`, která spočítá a vrátí odhad [Eulerova čísla](https://cs.wikipedia.org/wiki/Eulerovo_%C4%8D%C3%ADslo) $e$ pomocí $n$-tého členu posloupnosti $(1 + \\frac{1}{n})^n$. Pomocí srovnání s hodnotou `math.exp(1)` zhodnoťte, na kolik desetinných míst je výsledek přesný."
   ]
  },
  {
   "cell_type": "code",
   "execution_count": null,
   "metadata": {},
   "outputs": [],
   "source": []
  },
  {
   "cell_type": "markdown",
   "metadata": {},
   "source": [
    "2. Číslo $\\sqrt{2}$ lze zapsat pomocí [nekonečného řetězového zlomku](https://cs.wikipedia.org/wiki/%C5%98et%C4%9Bzov%C3%BD_zlomek):\n",
    "\n",
    "    $$\n",
    "    \\sqrt{2} = 1 + \\cfrac{1}{2 + \\cfrac{1}{2 + \\cfrac{1}{2 + \\ddots}}}\n",
    "    $$\n",
    "\n",
    "    Napište funkci `odmocnina_2(n)`, která spočítá odhad čísla $\\sqrt{2}$ pomocí řetězového zlomku s $n$ jmenovateli. Zhodnoťte, na kolik desetinných míst je výsledek přesný."
   ]
  },
  {
   "cell_type": "code",
   "execution_count": null,
   "metadata": {},
   "outputs": [],
   "source": []
  },
  {
   "cell_type": "markdown",
   "metadata": {},
   "source": [
    "3. Napište funkci `zlatý_řez(n)`, která spočítá odhad [zlatého řezu](https://cs.wikipedia.org/wiki/Zlat%C3%BD_%C5%99ez) $\\varphi$ pomocí řetězového zlomku s $n$ jmenovateli. Také zhodnoťte, na kolik desetinných míst je výsledek přesný.\n",
    "\n",
    "    Zlatý řez:\n",
    "\n",
    "    $$\n",
    "    \\varphi = \\cfrac{1 + \\sqrt{5}}{2} = 1 + \\cfrac{1}{1 + \\cfrac{1}{1 + \\cfrac{1}{1 + \\ddots}}}\n",
    "    $$"
   ]
  },
  {
   "cell_type": "code",
   "execution_count": null,
   "metadata": {},
   "outputs": [],
   "source": []
  },
  {
   "cell_type": "markdown",
   "metadata": {},
   "source": [
    "4.  Napište funkci `ludolfovo_číslo(n)`, která spočítá a vrátí odhad [Ludolfova čísla](https://cs.wikipedia.org/wiki/P%C3%AD_(%C4%8D%C3%ADslo)) $\\pi$ pomocí součtu prvních $n$ členů Leibnizovy řady. Zhodnoťte, na kolik desetinných míst je výsledek přesný.\n",
    "\n",
    "$$\n",
    "\\pi = 4\\sum^\\infty_{k=0} \\frac{(-1)^k}{2k+1} = \\frac{4}{1}-\\frac{4}{3}+\\frac{4}{5}-\\frac{4}{7}+\\frac{4}{9}-\\cdots\n",
    "$$"
   ]
  },
  {
   "cell_type": "code",
   "execution_count": null,
   "metadata": {},
   "outputs": [],
   "source": []
  }
 ],
 "metadata": {
  "kernelspec": {
   "display_name": "Python 3",
   "language": "python",
   "name": "python3"
  },
  "language_info": {
   "codemirror_mode": {
    "name": "ipython",
    "version": 3
   },
   "file_extension": ".py",
   "mimetype": "text/x-python",
   "name": "python",
   "nbconvert_exporter": "python",
   "pygments_lexer": "ipython3",
   "version": "3.11.5"
  },
  "orig_nbformat": 4
 },
 "nbformat": 4,
 "nbformat_minor": 2
}
